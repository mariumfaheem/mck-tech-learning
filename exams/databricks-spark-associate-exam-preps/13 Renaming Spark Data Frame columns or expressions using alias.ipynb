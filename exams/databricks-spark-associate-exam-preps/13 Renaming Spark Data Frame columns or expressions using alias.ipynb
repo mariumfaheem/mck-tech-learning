{
 "cells": [
  {
   "cell_type": "code",
   "execution_count": 0,
   "metadata": {
    "application/vnd.databricks.v1+cell": {
     "cellMetadata": {},
     "inputWidgets": {},
     "nuid": "51fb0113-3e28-457f-9f3c-e19761a923c7",
     "showTitle": false,
     "title": ""
    }
   },
   "outputs": [
    {
     "output_type": "display_data",
     "data": {
      "text/html": [
       "<style scoped>\n",
       "  .ansiout {\n",
       "    display: block;\n",
       "    unicode-bidi: embed;\n",
       "    white-space: pre-wrap;\n",
       "    word-wrap: break-word;\n",
       "    word-break: break-all;\n",
       "    font-family: \"Menlo\", \"Monaco\", \"Consolas\", \"Ubuntu Mono\", \"Source Code Pro\", monospace;\n",
       "    font-size: 13px;\n",
       "    color: #555;\n",
       "    margin-left: 4px;\n",
       "    line-height: 19px;\n",
       "  }\n",
       "</style>\n",
       "<div class=\"ansiout\"></div>"
      ]
     },
     "metadata": {
      "application/vnd.databricks.v1+output": {
       "addedWidgets": {},
       "arguments": {},
       "data": "<div class=\"ansiout\"></div>",
       "datasetInfos": [],
       "metadata": {},
       "removedWidgets": [],
       "type": "html"
      }
     },
     "output_type": "display_data"
    }
   ],
   "source": [
    "%run \"./02 Creating Spark Data Frame to Select and Rename Columns\""
   ]
  },
  {
   "cell_type": "markdown",
   "metadata": {
    "application/vnd.databricks.v1+cell": {
     "cellMetadata": {},
     "inputWidgets": {},
     "nuid": "8870bee5-d017-4475-83fc-8f5749c67588",
     "showTitle": false,
     "title": ""
    }
   },
   "source": [
    "\n",
    "* Rename `id` to `user_id`\n",
    "* Rename `first_name` to `user_first_name`\n",
    "* Rename `last_name` to `user_last_name`\n",
    "* Also add new column by name `user_full_name` which is derived by concatenating `first_name` and `last_name` with `, ` in between."
   ]
  },
  {
   "cell_type": "code",
   "execution_count": 0,
   "metadata": {
    "application/vnd.databricks.v1+cell": {
     "cellMetadata": {},
     "inputWidgets": {},
     "nuid": "c9537ecb-cb05-469f-a6f7-cd25b02f3ae1",
     "showTitle": false,
     "title": ""
    }
   },
   "outputs": [
    {
     "output_type": "display_data",
     "data": {
      "text/html": [
       "<style scoped>\n",
       "  .ansiout {\n",
       "    display: block;\n",
       "    unicode-bidi: embed;\n",
       "    white-space: pre-wrap;\n",
       "    word-wrap: break-word;\n",
       "    word-break: break-all;\n",
       "    font-family: \"Menlo\", \"Monaco\", \"Consolas\", \"Ubuntu Mono\", \"Source Code Pro\", monospace;\n",
       "    font-size: 13px;\n",
       "    color: #555;\n",
       "    margin-left: 4px;\n",
       "    line-height: 19px;\n",
       "  }\n",
       "</style>\n",
       "<div class=\"ansiout\"></div>"
      ]
     },
     "metadata": {
      "application/vnd.databricks.v1+output": {
       "addedWidgets": {},
       "arguments": {},
       "data": "<div class=\"ansiout\"></div>",
       "datasetInfos": [],
       "metadata": {},
       "removedWidgets": [],
       "type": "html"
      }
     },
     "output_type": "display_data"
    },
    {
     "output_type": "display_data",
     "data": {
      "text/html": [
       "<style scoped>\n",
       "  .ansiout {\n",
       "    display: block;\n",
       "    unicode-bidi: embed;\n",
       "    white-space: pre-wrap;\n",
       "    word-wrap: break-word;\n",
       "    word-break: break-all;\n",
       "    font-family: \"Menlo\", \"Monaco\", \"Consolas\", \"Ubuntu Mono\", \"Source Code Pro\", monospace;\n",
       "    font-size: 13px;\n",
       "    color: #555;\n",
       "    margin-left: 4px;\n",
       "    line-height: 19px;\n",
       "  }\n",
       "</style>\n",
       "<div class=\"ansiout\"></div>"
      ]
     },
     "metadata": {
      "application/vnd.databricks.v1+output": {
       "addedWidgets": {},
       "arguments": {},
       "data": "<div class=\"ansiout\"></div>",
       "datasetInfos": [],
       "metadata": {},
       "removedWidgets": [],
       "type": "html"
      }
     },
     "output_type": "display_data"
    },
    {
     "output_type": "display_data",
     "data": {
      "text/html": [
       "<style scoped>\n",
       "  .ansiout {\n",
       "    display: block;\n",
       "    unicode-bidi: embed;\n",
       "    white-space: pre-wrap;\n",
       "    word-wrap: break-word;\n",
       "    word-break: break-all;\n",
       "    font-family: \"Menlo\", \"Monaco\", \"Consolas\", \"Ubuntu Mono\", \"Source Code Pro\", monospace;\n",
       "    font-size: 13px;\n",
       "    color: #555;\n",
       "    margin-left: 4px;\n",
       "    line-height: 19px;\n",
       "  }\n",
       "</style>\n",
       "<div class=\"ansiout\"></div>"
      ]
     },
     "metadata": {
      "application/vnd.databricks.v1+output": {
       "addedWidgets": {},
       "arguments": {},
       "data": "<div class=\"ansiout\"></div>",
       "datasetInfos": [],
       "metadata": {},
       "removedWidgets": [],
       "type": "html"
      }
     },
     "output_type": "display_data"
    }
   ],
   "source": [
    "from pyspark.sql.functions import col, concat, lit"
   ]
  },
  {
   "cell_type": "code",
   "execution_count": 0,
   "metadata": {
    "application/vnd.databricks.v1+cell": {
     "cellMetadata": {},
     "inputWidgets": {},
     "nuid": "0775878b-0047-46bd-bc18-2018025c309a",
     "showTitle": false,
     "title": ""
    }
   },
   "outputs": [
    {
     "output_type": "display_data",
     "data": {
      "text/html": [
       "<style scoped>\n",
       "  .ansiout {\n",
       "    display: block;\n",
       "    unicode-bidi: embed;\n",
       "    white-space: pre-wrap;\n",
       "    word-wrap: break-word;\n",
       "    word-break: break-all;\n",
       "    font-family: \"Menlo\", \"Monaco\", \"Consolas\", \"Ubuntu Mono\", \"Source Code Pro\", monospace;\n",
       "    font-size: 13px;\n",
       "    color: #555;\n",
       "    margin-left: 4px;\n",
       "    line-height: 19px;\n",
       "  }\n",
       "</style>\n",
       "<div class=\"ansiout\"></div>"
      ]
     },
     "metadata": {
      "application/vnd.databricks.v1+output": {
       "addedWidgets": {},
       "arguments": {},
       "data": "<div class=\"ansiout\"></div>",
       "datasetInfos": [],
       "metadata": {},
       "removedWidgets": [],
       "type": "html"
      }
     },
     "output_type": "display_data"
    },
    {
     "output_type": "display_data",
     "data": {
      "text/html": [
       "<style scoped>\n",
       "  .ansiout {\n",
       "    display: block;\n",
       "    unicode-bidi: embed;\n",
       "    white-space: pre-wrap;\n",
       "    word-wrap: break-word;\n",
       "    word-break: break-all;\n",
       "    font-family: \"Menlo\", \"Monaco\", \"Consolas\", \"Ubuntu Mono\", \"Source Code Pro\", monospace;\n",
       "    font-size: 13px;\n",
       "    color: #555;\n",
       "    margin-left: 4px;\n",
       "    line-height: 19px;\n",
       "  }\n",
       "</style>\n",
       "<div class=\"ansiout\">+---+----------+------------+--------------------+--------------------+-------+-----------+-----------+-------------+-------------------+\n",
       " id|first_name|   last_name|               email|       phone_numbers|courses|is_customer|amount_paid|customer_from|    last_updated_ts|\n",
       "+---+----------+------------+--------------------+--------------------+-------+-----------+-----------+-------------+-------------------+\n",
       "  1|    Corrie|Van den Oord|cvandenoord0@etsy...|{+1 234 567 8901,...| [1, 2]|       true|    1000.55|   2021-01-15|2021-02-10 01:15:00|\n",
       "  2|  Nikolaus|     Brewitt|nbrewitt1@dailyma...|{+1 234 567 8923,...|    [3]|       true|      900.0|   2021-02-14|2021-02-18 03:33:00|\n",
       "  3|    Orelie|      Penney|openney2@vistapri...|{+1 714 512 9752,...| [2, 4]|       true|     850.55|   2021-01-21|2021-03-15 15:16:55|\n",
       "  4|     Ashby|    Maddocks|  amaddocks3@home.pl|        {null, null}|     []|      false|        NaN|         null|2021-04-10 17:45:30|\n",
       "  5|      Kurt|        Rome|krome4@shutterfly...|{+1 817 934 7142,...|     []|      false|        NaN|         null|2021-04-02 00:55:18|\n",
       "+---+----------+------------+--------------------+--------------------+-------+-----------+-----------+-------------+-------------------+\n",
       "\n",
       "</div>"
      ]
     },
     "metadata": {
      "application/vnd.databricks.v1+output": {
       "addedWidgets": {},
       "arguments": {},
       "data": "<div class=\"ansiout\">+---+----------+------------+--------------------+--------------------+-------+-----------+-----------+-------------+-------------------+\n| id|first_name|   last_name|               email|       phone_numbers|courses|is_customer|amount_paid|customer_from|    last_updated_ts|\n+---+----------+------------+--------------------+--------------------+-------+-----------+-----------+-------------+-------------------+\n|  1|    Corrie|Van den Oord|cvandenoord0@etsy...|{+1 234 567 8901,...| [1, 2]|       true|    1000.55|   2021-01-15|2021-02-10 01:15:00|\n|  2|  Nikolaus|     Brewitt|nbrewitt1@dailyma...|{+1 234 567 8923,...|    [3]|       true|      900.0|   2021-02-14|2021-02-18 03:33:00|\n|  3|    Orelie|      Penney|openney2@vistapri...|{+1 714 512 9752,...| [2, 4]|       true|     850.55|   2021-01-21|2021-03-15 15:16:55|\n|  4|     Ashby|    Maddocks|  amaddocks3@home.pl|        {null, null}|     []|      false|        NaN|         null|2021-04-10 17:45:30|\n|  5|      Kurt|        Rome|krome4@shutterfly...|{+1 817 934 7142,...|     []|      false|        NaN|         null|2021-04-02 00:55:18|\n+---+----------+------------+--------------------+--------------------+-------+-----------+-----------+-------------+-------------------+\n\n</div>",
       "datasetInfos": [],
       "metadata": {},
       "removedWidgets": [],
       "type": "html"
      }
     },
     "output_type": "display_data"
    }
   ],
   "source": [
    "user_id = col('id')"
   ]
  },
  {
   "cell_type": "code",
   "execution_count": 0,
   "metadata": {
    "application/vnd.databricks.v1+cell": {
     "cellMetadata": {},
     "inputWidgets": {},
     "nuid": "e12f1bdc-701a-4092-a266-d6b3a88e9ca8",
     "showTitle": false,
     "title": ""
    }
   },
   "outputs": [
    {
     "output_type": "display_data",
     "data": {
      "text/html": [
       "<style scoped>\n",
       "  .ansiout {\n",
       "    display: block;\n",
       "    unicode-bidi: embed;\n",
       "    white-space: pre-wrap;\n",
       "    word-wrap: break-word;\n",
       "    word-break: break-all;\n",
       "    font-family: \"Menlo\", \"Monaco\", \"Consolas\", \"Ubuntu Mono\", \"Source Code Pro\", monospace;\n",
       "    font-size: 13px;\n",
       "    color: #555;\n",
       "    margin-left: 4px;\n",
       "    line-height: 19px;\n",
       "  }\n",
       "</style>\n",
       "<div class=\"ansiout\">Help on method alias in module pyspark.sql.column:\n",
       "\n",
       "alias(*alias, **kwargs) method of pyspark.sql.column.Column instance\n",
       "    Returns this column aliased with a new name or names (in the case of expressions that\n",
       "    return more than one column, such as explode).\n",
       "    \n",
       "    .. versionadded:: 1.3.0\n",
       "    \n",
       "    Parameters\n",
       "    ----------\n",
       "    alias : str\n",
       "        desired column names (collects all positional arguments passed)\n",
       "    \n",
       "    Other Parameters\n",
       "    ----------------\n",
       "    metadata: dict\n",
       "        a dict of information to be stored in ``metadata`` attribute of the\n",
       "        corresponding :class:`StructField &lt;pyspark.sql.types.StructField&gt;` (optional, keyword\n",
       "        only argument)\n",
       "    \n",
       "        .. versionchanged:: 2.2.0\n",
       "           Added optional ``metadata`` argument.\n",
       "    \n",
       "    Examples\n",
       "    --------\n",
       "    &gt;&gt;&gt; df.select(df.age.alias(&#34;age2&#34;)).collect()\n",
       "    [Row(age2=2), Row(age2=5)]\n",
       "    &gt;&gt;&gt; df.select(df.age.alias(&#34;age3&#34;, metadata={&#39;max&#39;: 99})).schema[&#39;age3&#39;].metadata[&#39;max&#39;]\n",
       "    99\n",
       "\n",
       "</div>"
      ]
     },
     "metadata": {
      "application/vnd.databricks.v1+output": {
       "addedWidgets": {},
       "arguments": {},
       "data": "<div class=\"ansiout\">Help on method alias in module pyspark.sql.column:\n\nalias(*alias, **kwargs) method of pyspark.sql.column.Column instance\n    Returns this column aliased with a new name or names (in the case of expressions that\n    return more than one column, such as explode).\n    \n    .. versionadded:: 1.3.0\n    \n    Parameters\n    ----------\n    alias : str\n        desired column names (collects all positional arguments passed)\n    \n    Other Parameters\n    ----------------\n    metadata: dict\n        a dict of information to be stored in ``metadata`` attribute of the\n        corresponding :class:`StructField &lt;pyspark.sql.types.StructField&gt;` (optional, keyword\n        only argument)\n    \n        .. versionchanged:: 2.2.0\n           Added optional ``metadata`` argument.\n    \n    Examples\n    --------\n    &gt;&gt;&gt; df.select(df.age.alias(&#34;age2&#34;)).collect()\n    [Row(age2=2), Row(age2=5)]\n    &gt;&gt;&gt; df.select(df.age.alias(&#34;age3&#34;, metadata={&#39;max&#39;: 99})).schema[&#39;age3&#39;].metadata[&#39;max&#39;]\n    99\n\n</div>",
       "datasetInfos": [],
       "metadata": {},
       "removedWidgets": [],
       "type": "html"
      }
     },
     "output_type": "display_data"
    }
   ],
   "source": [
    "help(user_id.alias)"
   ]
  },
  {
   "cell_type": "code",
   "execution_count": 0,
   "metadata": {
    "application/vnd.databricks.v1+cell": {
     "cellMetadata": {},
     "inputWidgets": {},
     "nuid": "01f1a863-5f24-47ff-b4a0-cb7895dceb2c",
     "showTitle": false,
     "title": ""
    }
   },
   "outputs": [
    {
     "output_type": "display_data",
     "data": {
      "text/html": [
       "<style scoped>\n",
       "  .ansiout {\n",
       "    display: block;\n",
       "    unicode-bidi: embed;\n",
       "    white-space: pre-wrap;\n",
       "    word-wrap: break-word;\n",
       "    word-break: break-all;\n",
       "    font-family: \"Menlo\", \"Monaco\", \"Consolas\", \"Ubuntu Mono\", \"Source Code Pro\", monospace;\n",
       "    font-size: 13px;\n",
       "    color: #555;\n",
       "    margin-left: 4px;\n",
       "    line-height: 19px;\n",
       "  }\n",
       "</style>\n",
       "<div class=\"ansiout\">+-------+---------------+--------------+--------------------+\n",
       "user_id|user_first_name|user_last_name|      user_full_name|\n",
       "+-------+---------------+--------------+--------------------+\n",
       "      1|         Corrie|  Van den Oord|Corrie, Van den Oord|\n",
       "      2|       Nikolaus|       Brewitt|   Nikolaus, Brewitt|\n",
       "      3|         Orelie|        Penney|      Orelie, Penney|\n",
       "      4|          Ashby|      Maddocks|     Ashby, Maddocks|\n",
       "      5|           Kurt|          Rome|          Kurt, Rome|\n",
       "+-------+---------------+--------------+--------------------+\n",
       "\n",
       "</div>"
      ]
     },
     "metadata": {
      "application/vnd.databricks.v1+output": {
       "addedWidgets": {},
       "arguments": {},
       "data": "<div class=\"ansiout\">+-------+---------------+--------------+--------------------+\n|user_id|user_first_name|user_last_name|      user_full_name|\n+-------+---------------+--------------+--------------------+\n|      1|         Corrie|  Van den Oord|Corrie, Van den Oord|\n|      2|       Nikolaus|       Brewitt|   Nikolaus, Brewitt|\n|      3|         Orelie|        Penney|      Orelie, Penney|\n|      4|          Ashby|      Maddocks|     Ashby, Maddocks|\n|      5|           Kurt|          Rome|          Kurt, Rome|\n+-------+---------------+--------------+--------------------+\n\n</div>",
       "datasetInfos": [],
       "metadata": {},
       "removedWidgets": [],
       "type": "html"
      }
     },
     "output_type": "display_data"
    }
   ],
   "source": [
    "# Using select\n",
    "users_df. \\\n",
    "    select(\n",
    "        col('id').alias('user_id'),\n",
    "        col('first_name').alias('user_first_name'),\n",
    "        col('last_name').alias('user_last_name'),\n",
    "        concat(col('first_name'), lit(', '), col('last_name')).alias('user_full_name')\n",
    "    ). \\\n",
    "    show()"
   ]
  },
  {
   "cell_type": "code",
   "execution_count": 0,
   "metadata": {
    "application/vnd.databricks.v1+cell": {
     "cellMetadata": {},
     "inputWidgets": {},
     "nuid": "62963e9a-ce99-4159-8871-9007be76330f",
     "showTitle": false,
     "title": ""
    }
   },
   "outputs": [
    {
     "output_type": "display_data",
     "data": {
      "text/html": [
       "<style scoped>\n",
       "  .ansiout {\n",
       "    display: block;\n",
       "    unicode-bidi: embed;\n",
       "    white-space: pre-wrap;\n",
       "    word-wrap: break-word;\n",
       "    word-break: break-all;\n",
       "    font-family: \"Menlo\", \"Monaco\", \"Consolas\", \"Ubuntu Mono\", \"Source Code Pro\", monospace;\n",
       "    font-size: 13px;\n",
       "    color: #555;\n",
       "    margin-left: 4px;\n",
       "    line-height: 19px;\n",
       "  }\n",
       "</style>\n",
       "<div class=\"ansiout\">+-------+---------------+--------------+--------------------+\n",
       "user_id|user_first_name|user_last_name|      user_full_name|\n",
       "+-------+---------------+--------------+--------------------+\n",
       "      1|         Corrie|  Van den Oord|Corrie, Van den Oord|\n",
       "      2|       Nikolaus|       Brewitt|   Nikolaus, Brewitt|\n",
       "      3|         Orelie|        Penney|      Orelie, Penney|\n",
       "      4|          Ashby|      Maddocks|     Ashby, Maddocks|\n",
       "      5|           Kurt|          Rome|          Kurt, Rome|\n",
       "+-------+---------------+--------------+--------------------+\n",
       "\n",
       "</div>"
      ]
     },
     "metadata": {
      "application/vnd.databricks.v1+output": {
       "addedWidgets": {},
       "arguments": {},
       "data": "<div class=\"ansiout\">+-------+---------------+--------------+--------------------+\n|user_id|user_first_name|user_last_name|      user_full_name|\n+-------+---------------+--------------+--------------------+\n|      1|         Corrie|  Van den Oord|Corrie, Van den Oord|\n|      2|       Nikolaus|       Brewitt|   Nikolaus, Brewitt|\n|      3|         Orelie|        Penney|      Orelie, Penney|\n|      4|          Ashby|      Maddocks|     Ashby, Maddocks|\n|      5|           Kurt|          Rome|          Kurt, Rome|\n+-------+---------------+--------------+--------------------+\n\n</div>",
       "datasetInfos": [],
       "metadata": {},
       "removedWidgets": [],
       "type": "html"
      }
     },
     "output_type": "display_data"
    }
   ],
   "source": [
    "users_df. \\\n",
    "    select(\n",
    "        users_df['id'].alias('user_id'),\n",
    "        users_df['first_name'].alias('user_first_name'),\n",
    "        users_df['last_name'].alias('user_last_name'),\n",
    "        concat(users_df['first_name'], lit(', '), users_df['last_name']).alias('user_full_name')\n",
    "    ). \\\n",
    "    show()"
   ]
  },
  {
   "cell_type": "code",
   "execution_count": 0,
   "metadata": {
    "application/vnd.databricks.v1+cell": {
     "cellMetadata": {},
     "inputWidgets": {},
     "nuid": "1551fce3-2ad6-462e-a09e-a54b6d3a3eea",
     "showTitle": false,
     "title": ""
    }
   },
   "outputs": [
    {
     "output_type": "display_data",
     "data": {
      "text/html": [
       "<style scoped>\n",
       "  .ansiout {\n",
       "    display: block;\n",
       "    unicode-bidi: embed;\n",
       "    white-space: pre-wrap;\n",
       "    word-wrap: break-word;\n",
       "    word-break: break-all;\n",
       "    font-family: \"Menlo\", \"Monaco\", \"Consolas\", \"Ubuntu Mono\", \"Source Code Pro\", monospace;\n",
       "    font-size: 13px;\n",
       "    color: #555;\n",
       "    margin-left: 4px;\n",
       "    line-height: 19px;\n",
       "  }\n",
       "</style>\n",
       "<div class=\"ansiout\">+-------+---------------+--------------+--------------------+\n",
       "user_id|user_first_name|user_last_name|      user_full_name|\n",
       "+-------+---------------+--------------+--------------------+\n",
       "      1|         Corrie|  Van den Oord|Corrie, Van den Oord|\n",
       "      2|       Nikolaus|       Brewitt|   Nikolaus, Brewitt|\n",
       "      3|         Orelie|        Penney|      Orelie, Penney|\n",
       "      4|          Ashby|      Maddocks|     Ashby, Maddocks|\n",
       "      5|           Kurt|          Rome|          Kurt, Rome|\n",
       "+-------+---------------+--------------+--------------------+\n",
       "\n",
       "</div>"
      ]
     },
     "metadata": {
      "application/vnd.databricks.v1+output": {
       "addedWidgets": {},
       "arguments": {},
       "data": "<div class=\"ansiout\">+-------+---------------+--------------+--------------------+\n|user_id|user_first_name|user_last_name|      user_full_name|\n+-------+---------------+--------------+--------------------+\n|      1|         Corrie|  Van den Oord|Corrie, Van den Oord|\n|      2|       Nikolaus|       Brewitt|   Nikolaus, Brewitt|\n|      3|         Orelie|        Penney|      Orelie, Penney|\n|      4|          Ashby|      Maddocks|     Ashby, Maddocks|\n|      5|           Kurt|          Rome|          Kurt, Rome|\n+-------+---------------+--------------+--------------------+\n\n</div>",
       "datasetInfos": [],
       "metadata": {},
       "removedWidgets": [],
       "type": "html"
      }
     },
     "output_type": "display_data"
    }
   ],
   "source": [
    "# Using withColumn and alias (first select and then withColumn)\n",
    "users_df. \\\n",
    "    select(\n",
    "        users_df['id'].alias('user_id'),\n",
    "        users_df['first_name'].alias('user_first_name'),\n",
    "        users_df['last_name'].alias('user_last_name')\n",
    "    ). \\\n",
    "    withColumn('user_full_name', concat(col('user_first_name'), lit(', '), col('user_last_name'))). \\\n",
    "    show()"
   ]
  },
  {
   "cell_type": "code",
   "execution_count": 0,
   "metadata": {
    "application/vnd.databricks.v1+cell": {
     "cellMetadata": {},
     "inputWidgets": {},
     "nuid": "5ca1167b-380d-4e4c-9063-4a7dbfb734f5",
     "showTitle": false,
     "title": ""
    }
   },
   "outputs": [
    {
     "output_type": "display_data",
     "data": {
      "text/html": [
       "<style scoped>\n",
       "  .ansiout {\n",
       "    display: block;\n",
       "    unicode-bidi: embed;\n",
       "    white-space: pre-wrap;\n",
       "    word-wrap: break-word;\n",
       "    word-break: break-all;\n",
       "    font-family: \"Menlo\", \"Monaco\", \"Consolas\", \"Ubuntu Mono\", \"Source Code Pro\", monospace;\n",
       "    font-size: 13px;\n",
       "    color: #555;\n",
       "    margin-left: 4px;\n",
       "    line-height: 19px;\n",
       "  }\n",
       "</style>\n",
       "<div class=\"ansiout\">+-------+---------------+--------------+--------------------+\n",
       "user_id|user_first_name|user_last_name|      user_full_name|\n",
       "+-------+---------------+--------------+--------------------+\n",
       "      1|         Corrie|  Van den Oord|Corrie, Van den Oord|\n",
       "      2|       Nikolaus|       Brewitt|   Nikolaus, Brewitt|\n",
       "      3|         Orelie|        Penney|      Orelie, Penney|\n",
       "      4|          Ashby|      Maddocks|     Ashby, Maddocks|\n",
       "      5|           Kurt|          Rome|          Kurt, Rome|\n",
       "+-------+---------------+--------------+--------------------+\n",
       "\n",
       "</div>"
      ]
     },
     "metadata": {
      "application/vnd.databricks.v1+output": {
       "addedWidgets": {},
       "arguments": {},
       "data": "<div class=\"ansiout\">+-------+---------------+--------------+--------------------+\n|user_id|user_first_name|user_last_name|      user_full_name|\n+-------+---------------+--------------+--------------------+\n|      1|         Corrie|  Van den Oord|Corrie, Van den Oord|\n|      2|       Nikolaus|       Brewitt|   Nikolaus, Brewitt|\n|      3|         Orelie|        Penney|      Orelie, Penney|\n|      4|          Ashby|      Maddocks|     Ashby, Maddocks|\n|      5|           Kurt|          Rome|          Kurt, Rome|\n+-------+---------------+--------------+--------------------+\n\n</div>",
       "datasetInfos": [],
       "metadata": {},
       "removedWidgets": [],
       "type": "html"
      }
     },
     "output_type": "display_data"
    }
   ],
   "source": [
    "# Using withColumn and alias (first withColumn and then select)\n",
    "users_df. \\\n",
    "    withColumn('user_full_name', concat(col('first_name'), lit(', '), col('last_name'))). \\\n",
    "    select(\n",
    "        users_df['id'].alias('user_id'),\n",
    "        users_df['first_name'].alias('user_first_name'),\n",
    "        users_df['last_name'].alias('user_last_name'),\n",
    "        'user_full_name'\n",
    "    ). \\\n",
    "    show()"
   ]
  },
  {
   "cell_type": "code",
   "execution_count": 0,
   "metadata": {
    "application/vnd.databricks.v1+cell": {
     "cellMetadata": {},
     "inputWidgets": {},
     "nuid": "80c4bcf6-cad6-42d5-b8df-aac2ed23c158",
     "showTitle": false,
     "title": ""
    }
   },
   "outputs": [
    {
     "output_type": "display_data",
     "data": {
      "text/html": [
       "<style scoped>\n",
       "  .ansiout {\n",
       "    display: block;\n",
       "    unicode-bidi: embed;\n",
       "    white-space: pre-wrap;\n",
       "    word-wrap: break-word;\n",
       "    word-break: break-all;\n",
       "    font-family: \"Menlo\", \"Monaco\", \"Consolas\", \"Ubuntu Mono\", \"Source Code Pro\", monospace;\n",
       "    font-size: 13px;\n",
       "    color: #555;\n",
       "    margin-left: 4px;\n",
       "    line-height: 19px;\n",
       "  }\n",
       "</style>\n",
       "<div class=\"ansiout\">+-------+---------------+--------------+--------------------+\n",
       "user_id|user_first_name|user_last_name|      user_full_name|\n",
       "+-------+---------------+--------------+--------------------+\n",
       "      1|         Corrie|  Van den Oord|Corrie, Van den Oord|\n",
       "      2|       Nikolaus|       Brewitt|   Nikolaus, Brewitt|\n",
       "      3|         Orelie|        Penney|      Orelie, Penney|\n",
       "      4|          Ashby|      Maddocks|     Ashby, Maddocks|\n",
       "      5|           Kurt|          Rome|          Kurt, Rome|\n",
       "+-------+---------------+--------------+--------------------+\n",
       "\n",
       "</div>"
      ]
     },
     "metadata": {
      "application/vnd.databricks.v1+output": {
       "addedWidgets": {},
       "arguments": {},
       "data": "<div class=\"ansiout\">+-------+---------------+--------------+--------------------+\n|user_id|user_first_name|user_last_name|      user_full_name|\n+-------+---------------+--------------+--------------------+\n|      1|         Corrie|  Van den Oord|Corrie, Van den Oord|\n|      2|       Nikolaus|       Brewitt|   Nikolaus, Brewitt|\n|      3|         Orelie|        Penney|      Orelie, Penney|\n|      4|          Ashby|      Maddocks|     Ashby, Maddocks|\n|      5|           Kurt|          Rome|          Kurt, Rome|\n+-------+---------------+--------------+--------------------+\n\n</div>",
       "datasetInfos": [],
       "metadata": {},
       "removedWidgets": [],
       "type": "html"
      }
     },
     "output_type": "display_data"
    }
   ],
   "source": [
    "users_df. \\\n",
    "    withColumn('user_full_name', concat(users_df['first_name'], lit(', '), users_df['last_name'])). \\\n",
    "    select(\n",
    "        users_df['id'].alias('user_id'),\n",
    "        users_df['first_name'].alias('user_first_name'),\n",
    "        users_df['last_name'].alias('user_last_name'),\n",
    "        'user_full_name'\n",
    "    ). \\\n",
    "    show()"
   ]
  },
  {
   "cell_type": "code",
   "execution_count": 0,
   "metadata": {
    "application/vnd.databricks.v1+cell": {
     "cellMetadata": {},
     "inputWidgets": {},
     "nuid": "46d2e96e-e280-4be0-b5a2-8a938004cdb3",
     "showTitle": false,
     "title": ""
    }
   },
   "outputs": [
    {
     "output_type": "display_data",
     "data": {
      "text/html": [
       "<style scoped>\n",
       "  .ansiout {\n",
       "    display: block;\n",
       "    unicode-bidi: embed;\n",
       "    white-space: pre-wrap;\n",
       "    word-wrap: break-word;\n",
       "    word-break: break-all;\n",
       "    font-family: \"Menlo\", \"Monaco\", \"Consolas\", \"Ubuntu Mono\", \"Source Code Pro\", monospace;\n",
       "    font-size: 13px;\n",
       "    color: #555;\n",
       "    margin-left: 4px;\n",
       "    line-height: 19px;\n",
       "  }\n",
       "</style>"
      ]
     },
     "metadata": {
      "application/vnd.databricks.v1+output": {
       "arguments": {},
       "data": "",
       "errorSummary": "",
       "errorTraceType": null,
       "metadata": {},
       "type": "ipynbError"
      }
     },
     "output_type": "display_data"
    }
   ],
   "source": []
  }
 ],
 "metadata": {
  "application/vnd.databricks.v1+notebook": {
   "dashboards": [],
   "language": "python",
   "notebookMetadata": {
    "pythonIndentUnit": 4
   },
   "notebookName": "13 Renaming Spark Data Frame columns or expressions using alias",
   "widgets": {}
  }
 },
 "nbformat": 4,
 "nbformat_minor": 0
}
