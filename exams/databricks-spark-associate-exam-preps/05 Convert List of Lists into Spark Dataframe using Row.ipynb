{
 "cells": [
  {
   "cell_type": "code",
   "execution_count": 0,
   "metadata": {
    "application/vnd.databricks.v1+cell": {
     "cellMetadata": {
      "byteLimit": 2048000,
      "rowLimit": 10000
     },
     "inputWidgets": {},
     "nuid": "fc6445ff-45b6-4d41-a378-de916816e51a",
     "showTitle": false,
     "title": ""
    }
   },
   "outputs": [],
   "source": [
    "users_list = [[1, 'Scott'], [2, 'Donald'], [3, 'Mickey'], [4, 'Elvis']]"
   ]
  },
  {
   "cell_type": "code",
   "execution_count": 0,
   "metadata": {
    "application/vnd.databricks.v1+cell": {
     "cellMetadata": {
      "byteLimit": 2048000,
      "rowLimit": 10000
     },
     "inputWidgets": {},
     "nuid": "5c8dce61-a4d6-4a8b-b7fa-2eba05b75c2b",
     "showTitle": false,
     "title": ""
    }
   },
   "outputs": [
    {
     "output_type": "execute_result",
     "data": {
      "text/plain": [
       "list"
      ]
     },
     "execution_count": 2,
     "metadata": {},
     "output_type": "execute_result"
    }
   ],
   "source": [
    "type(users_list)"
   ]
  },
  {
   "cell_type": "code",
   "execution_count": 0,
   "metadata": {
    "application/vnd.databricks.v1+cell": {
     "cellMetadata": {
      "byteLimit": 2048000,
      "rowLimit": 10000
     },
     "inputWidgets": {},
     "nuid": "83bf8ec6-6821-400c-b546-2c911db1ef3d",
     "showTitle": false,
     "title": ""
    }
   },
   "outputs": [
    {
     "output_type": "execute_result",
     "data": {
      "text/plain": [
       "list"
      ]
     },
     "execution_count": 3,
     "metadata": {},
     "output_type": "execute_result"
    }
   ],
   "source": [
    "type(users_list[1])"
   ]
  },
  {
   "cell_type": "code",
   "execution_count": 0,
   "metadata": {
    "application/vnd.databricks.v1+cell": {
     "cellMetadata": {
      "byteLimit": 2048000,
      "rowLimit": 10000
     },
     "inputWidgets": {},
     "nuid": "567043bb-1734-404c-a409-6743567bfff7",
     "showTitle": false,
     "title": ""
    }
   },
   "outputs": [
    {
     "output_type": "execute_result",
     "data": {
      "text/plain": [
       "DataFrame[user_id: int, user_first_name: string]"
      ]
     },
     "execution_count": 4,
     "metadata": {},
     "output_type": "execute_result"
    }
   ],
   "source": [
    "spark.createDataFrame(users_list, 'user_id int, user_first_name string')"
   ]
  },
  {
   "cell_type": "code",
   "execution_count": 0,
   "metadata": {
    "application/vnd.databricks.v1+cell": {
     "cellMetadata": {
      "byteLimit": 2048000,
      "rowLimit": 10000
     },
     "inputWidgets": {},
     "nuid": "5912d761-f84b-4ca6-ae91-a8581ff0552e",
     "showTitle": false,
     "title": ""
    }
   },
   "outputs": [],
   "source": [
    "from pyspark.sql import Row"
   ]
  },
  {
   "cell_type": "code",
   "execution_count": 0,
   "metadata": {
    "application/vnd.databricks.v1+cell": {
     "cellMetadata": {},
     "inputWidgets": {},
     "nuid": "08120692-28fc-41ba-bc12-ef319a2689f7",
     "showTitle": false,
     "title": ""
    }
   },
   "outputs": [
    {
     "output_type": "display_data",
     "data": {
      "text/html": [
       "<style scoped>\n",
       "  .ansiout {\n",
       "    display: block;\n",
       "    unicode-bidi: embed;\n",
       "    white-space: pre-wrap;\n",
       "    word-wrap: break-word;\n",
       "    word-break: break-all;\n",
       "    font-family: \"Menlo\", \"Monaco\", \"Consolas\", \"Ubuntu Mono\", \"Source Code Pro\", monospace;\n",
       "    font-size: 13px;\n",
       "    color: #555;\n",
       "    margin-left: 4px;\n",
       "    line-height: 19px;\n",
       "  }\n",
       "</style>\n",
       "<div class=\"ansiout\">Help on class Row in module pyspark.sql.types:\n",
       "\n",
       "class Row(builtins.tuple)\n",
       "  Row(*args, **kwargs)\n",
       "  \n",
       "  A row in :class:`DataFrame`.\n",
       "  The fields in it can be accessed:\n",
       "  \n",
       "  * like attributes (``row.key``)\n",
       "  * like dictionary values (``row[key]``)\n",
       "  \n",
       "  ``key in row`` will search through row keys.\n",
       "  \n",
       "  Row can be used to create a row object by using named arguments.\n",
       "  It is not allowed to omit a named argument to represent that the value is\n",
       "  None or missing. This should be explicitly set to None in this case.\n",
       "  \n",
       "  .. versionchanged:: 3.0.0\n",
       "      Rows created from named arguments no longer have\n",
       "      field names sorted alphabetically and will be ordered in the position as\n",
       "      entered.\n",
       "  \n",
       "  Examples\n",
       "  --------\n",
       "  &gt;&gt;&gt; row = Row(name=&#34;Alice&#34;, age=11)\n",
       "  &gt;&gt;&gt; row\n",
       "  Row(name=&#39;Alice&#39;, age=11)\n",
       "  &gt;&gt;&gt; row[&#39;name&#39;], row[&#39;age&#39;]\n",
       "  (&#39;Alice&#39;, 11)\n",
       "  &gt;&gt;&gt; row.name, row.age\n",
       "  (&#39;Alice&#39;, 11)\n",
       "  &gt;&gt;&gt; &#39;name&#39; in row\n",
       "  True\n",
       "  &gt;&gt;&gt; &#39;wrong_key&#39; in row\n",
       "  False\n",
       "  \n",
       "  Row also can be used to create another Row like class, then it\n",
       "  could be used to create Row objects, such as\n",
       "  \n",
       "  &gt;&gt;&gt; Person = Row(&#34;name&#34;, &#34;age&#34;)\n",
       "  &gt;&gt;&gt; Person\n",
       "  &lt;Row(&#39;name&#39;, &#39;age&#39;)&gt;\n",
       "  &gt;&gt;&gt; &#39;name&#39; in Person\n",
       "  True\n",
       "  &gt;&gt;&gt; &#39;wrong_key&#39; in Person\n",
       "  False\n",
       "  &gt;&gt;&gt; Person(&#34;Alice&#34;, 11)\n",
       "  Row(name=&#39;Alice&#39;, age=11)\n",
       "  \n",
       "  This form can also be used to create rows as tuple values, i.e. with unnamed\n",
       "  fields.\n",
       "  \n",
       "  &gt;&gt;&gt; row1 = Row(&#34;Alice&#34;, 11)\n",
       "  &gt;&gt;&gt; row2 = Row(name=&#34;Alice&#34;, age=11)\n",
       "  &gt;&gt;&gt; row1 == row2\n",
       "  True\n",
       "  \n",
       "  Method resolution order:\n",
       "      Row\n",
       "      builtins.tuple\n",
       "      builtins.object\n",
       "  \n",
       "  Methods defined here:\n",
       "  \n",
       "  __call__(self, *args)\n",
       "      create new Row object\n",
       "  \n",
       "  __contains__(self, item)\n",
       "      Return key in self.\n",
       "  \n",
       "  __getattr__(self, item)\n",
       "  \n",
       "  __getitem__(self, item)\n",
       "      Return self[key].\n",
       "  \n",
       "  __reduce__(self)\n",
       "      Returns a tuple so Python knows how to pickle Row.\n",
       "  \n",
       "  __repr__(self)\n",
       "      Printable representation of Row used in Python REPL.\n",
       "  \n",
       "  __setattr__(self, key, value)\n",
       "      Implement setattr(self, name, value).\n",
       "  \n",
       "  asDict(self, recursive=False)\n",
       "      Return as a dict\n",
       "      \n",
       "      Parameters\n",
       "      ----------\n",
       "      recursive : bool, optional\n",
       "          turns the nested Rows to dict (default: False).\n",
       "      \n",
       "      Notes\n",
       "      -----\n",
       "      If a row contains duplicate field names, e.g., the rows of a join\n",
       "      between two :class:`DataFrame` that both have the fields of same names,\n",
       "      one of the duplicate fields will be selected by ``asDict``. ``__getitem__``\n",
       "      will also return one of the duplicate fields, however returned value might\n",
       "      be different to ``asDict``.\n",
       "      \n",
       "      Examples\n",
       "      --------\n",
       "      &gt;&gt;&gt; Row(name=&#34;Alice&#34;, age=11).asDict() == {&#39;name&#39;: &#39;Alice&#39;, &#39;age&#39;: 11}\n",
       "      True\n",
       "      &gt;&gt;&gt; row = Row(key=1, value=Row(name=&#39;a&#39;, age=2))\n",
       "      &gt;&gt;&gt; row.asDict() == {&#39;key&#39;: 1, &#39;value&#39;: Row(name=&#39;a&#39;, age=2)}\n",
       "      True\n",
       "      &gt;&gt;&gt; row.asDict(True) == {&#39;key&#39;: 1, &#39;value&#39;: {&#39;name&#39;: &#39;a&#39;, &#39;age&#39;: 2}}\n",
       "      True\n",
       "  \n",
       "  ----------------------------------------------------------------------\n",
       "  Static methods defined here:\n",
       "  \n",
       "  __new__(cls, *args, **kwargs)\n",
       "      Create and return a new object.  See help(type) for accurate signature.\n",
       "  \n",
       "  ----------------------------------------------------------------------\n",
       "  Data descriptors defined here:\n",
       "  \n",
       "  __dict__\n",
       "      dictionary for instance variables (if defined)\n",
       "  \n",
       "  ----------------------------------------------------------------------\n",
       "  Methods inherited from builtins.tuple:\n",
       "  \n",
       "  __add__(self, value, /)\n",
       "      Return self+value.\n",
       "  \n",
       "  __eq__(self, value, /)\n",
       "      Return self==value.\n",
       "  \n",
       "  __ge__(self, value, /)\n",
       "      Return self&gt;=value.\n",
       "  \n",
       "  __getattribute__(self, name, /)\n",
       "      Return getattr(self, name).\n",
       "  \n",
       "  __getnewargs__(self, /)\n",
       "  \n",
       "  __gt__(self, value, /)\n",
       "      Return self&gt;value.\n",
       "  \n",
       "  __hash__(self, /)\n",
       "      Return hash(self).\n",
       "  \n",
       "  __iter__(self, /)\n",
       "      Implement iter(self).\n",
       "  \n",
       "  __le__(self, value, /)\n",
       "      Return self&lt;=value.\n",
       "  \n",
       "  __len__(self, /)\n",
       "      Return len(self).\n",
       "  \n",
       "  __lt__(self, value, /)\n",
       "      Return self&lt;value.\n",
       "  \n",
       "  __mul__(self, value, /)\n",
       "      Return self*value.\n",
       "  \n",
       "  __ne__(self, value, /)\n",
       "      Return self!=value.\n",
       "  \n",
       "  __rmul__(self, value, /)\n",
       "      Return value*self.\n",
       "  \n",
       "  count(self, value, /)\n",
       "      Return number of occurrences of value.\n",
       "  \n",
       "  index(self, value, start=0, stop=9223372036854775807, /)\n",
       "      Return first index of value.\n",
       "      \n",
       "      Raises ValueError if the value is not present.\n",
       "\n",
       "</div>"
      ]
     },
     "metadata": {
      "application/vnd.databricks.v1+output": {
       "addedWidgets": {},
       "arguments": {},
       "data": "<div class=\"ansiout\">Help on class Row in module pyspark.sql.types:\n\nclass Row(builtins.tuple)\n |  Row(*args, **kwargs)\n |  \n |  A row in :class:`DataFrame`.\n |  The fields in it can be accessed:\n |  \n |  * like attributes (``row.key``)\n |  * like dictionary values (``row[key]``)\n |  \n |  ``key in row`` will search through row keys.\n |  \n |  Row can be used to create a row object by using named arguments.\n |  It is not allowed to omit a named argument to represent that the value is\n |  None or missing. This should be explicitly set to None in this case.\n |  \n |  .. versionchanged:: 3.0.0\n |      Rows created from named arguments no longer have\n |      field names sorted alphabetically and will be ordered in the position as\n |      entered.\n |  \n |  Examples\n |  --------\n |  &gt;&gt;&gt; row = Row(name=&#34;Alice&#34;, age=11)\n |  &gt;&gt;&gt; row\n |  Row(name=&#39;Alice&#39;, age=11)\n |  &gt;&gt;&gt; row[&#39;name&#39;], row[&#39;age&#39;]\n |  (&#39;Alice&#39;, 11)\n |  &gt;&gt;&gt; row.name, row.age\n |  (&#39;Alice&#39;, 11)\n |  &gt;&gt;&gt; &#39;name&#39; in row\n |  True\n |  &gt;&gt;&gt; &#39;wrong_key&#39; in row\n |  False\n |  \n |  Row also can be used to create another Row like class, then it\n |  could be used to create Row objects, such as\n |  \n |  &gt;&gt;&gt; Person = Row(&#34;name&#34;, &#34;age&#34;)\n |  &gt;&gt;&gt; Person\n |  &lt;Row(&#39;name&#39;, &#39;age&#39;)&gt;\n |  &gt;&gt;&gt; &#39;name&#39; in Person\n |  True\n |  &gt;&gt;&gt; &#39;wrong_key&#39; in Person\n |  False\n |  &gt;&gt;&gt; Person(&#34;Alice&#34;, 11)\n |  Row(name=&#39;Alice&#39;, age=11)\n |  \n |  This form can also be used to create rows as tuple values, i.e. with unnamed\n |  fields.\n |  \n |  &gt;&gt;&gt; row1 = Row(&#34;Alice&#34;, 11)\n |  &gt;&gt;&gt; row2 = Row(name=&#34;Alice&#34;, age=11)\n |  &gt;&gt;&gt; row1 == row2\n |  True\n |  \n |  Method resolution order:\n |      Row\n |      builtins.tuple\n |      builtins.object\n |  \n |  Methods defined here:\n |  \n |  __call__(self, *args)\n |      create new Row object\n |  \n |  __contains__(self, item)\n |      Return key in self.\n |  \n |  __getattr__(self, item)\n |  \n |  __getitem__(self, item)\n |      Return self[key].\n |  \n |  __reduce__(self)\n |      Returns a tuple so Python knows how to pickle Row.\n |  \n |  __repr__(self)\n |      Printable representation of Row used in Python REPL.\n |  \n |  __setattr__(self, key, value)\n |      Implement setattr(self, name, value).\n |  \n |  asDict(self, recursive=False)\n |      Return as a dict\n |      \n |      Parameters\n |      ----------\n |      recursive : bool, optional\n |          turns the nested Rows to dict (default: False).\n |      \n |      Notes\n |      -----\n |      If a row contains duplicate field names, e.g., the rows of a join\n |      between two :class:`DataFrame` that both have the fields of same names,\n |      one of the duplicate fields will be selected by ``asDict``. ``__getitem__``\n |      will also return one of the duplicate fields, however returned value might\n |      be different to ``asDict``.\n |      \n |      Examples\n |      --------\n |      &gt;&gt;&gt; Row(name=&#34;Alice&#34;, age=11).asDict() == {&#39;name&#39;: &#39;Alice&#39;, &#39;age&#39;: 11}\n |      True\n |      &gt;&gt;&gt; row = Row(key=1, value=Row(name=&#39;a&#39;, age=2))\n |      &gt;&gt;&gt; row.asDict() == {&#39;key&#39;: 1, &#39;value&#39;: Row(name=&#39;a&#39;, age=2)}\n |      True\n |      &gt;&gt;&gt; row.asDict(True) == {&#39;key&#39;: 1, &#39;value&#39;: {&#39;name&#39;: &#39;a&#39;, &#39;age&#39;: 2}}\n |      True\n |  \n |  ----------------------------------------------------------------------\n |  Static methods defined here:\n |  \n |  __new__(cls, *args, **kwargs)\n |      Create and return a new object.  See help(type) for accurate signature.\n |  \n |  ----------------------------------------------------------------------\n |  Data descriptors defined here:\n |  \n |  __dict__\n |      dictionary for instance variables (if defined)\n |  \n |  ----------------------------------------------------------------------\n |  Methods inherited from builtins.tuple:\n |  \n |  __add__(self, value, /)\n |      Return self+value.\n |  \n |  __eq__(self, value, /)\n |      Return self==value.\n |  \n |  __ge__(self, value, /)\n |      Return self&gt;=value.\n |  \n |  __getattribute__(self, name, /)\n |      Return getattr(self, name).\n |  \n |  __getnewargs__(self, /)\n |  \n |  __gt__(self, value, /)\n |      Return self&gt;value.\n |  \n |  __hash__(self, /)\n |      Return hash(self).\n |  \n |  __iter__(self, /)\n |      Implement iter(self).\n |  \n |  __le__(self, value, /)\n |      Return self&lt;=value.\n |  \n |  __len__(self, /)\n |      Return len(self).\n |  \n |  __lt__(self, value, /)\n |      Return self&lt;value.\n |  \n |  __mul__(self, value, /)\n |      Return self*value.\n |  \n |  __ne__(self, value, /)\n |      Return self!=value.\n |  \n |  __rmul__(self, value, /)\n |      Return value*self.\n |  \n |  count(self, value, /)\n |      Return number of occurrences of value.\n |  \n |  index(self, value, start=0, stop=9223372036854775807, /)\n |      Return first index of value.\n |      \n |      Raises ValueError if the value is not present.\n\n</div>",
       "datasetInfos": [],
       "metadata": {},
       "removedWidgets": [],
       "type": "html"
      }
     },
     "output_type": "display_data"
    }
   ],
   "source": [
    "help(Row)"
   ]
  },
  {
   "cell_type": "code",
   "execution_count": 0,
   "metadata": {
    "application/vnd.databricks.v1+cell": {
     "cellMetadata": {},
     "inputWidgets": {},
     "nuid": "6aa9db59-2f6f-40bb-8400-c9db4c22fc2e",
     "showTitle": false,
     "title": ""
    }
   },
   "outputs": [
    {
     "output_type": "display_data",
     "data": {
      "text/html": [
       "<style scoped>\n",
       "  .ansiout {\n",
       "    display: block;\n",
       "    unicode-bidi: embed;\n",
       "    white-space: pre-wrap;\n",
       "    word-wrap: break-word;\n",
       "    word-break: break-all;\n",
       "    font-family: \"Menlo\", \"Monaco\", \"Consolas\", \"Ubuntu Mono\", \"Source Code Pro\", monospace;\n",
       "    font-size: 13px;\n",
       "    color: #555;\n",
       "    margin-left: 4px;\n",
       "    line-height: 19px;\n",
       "  }\n",
       "</style>\n",
       "<div class=\"ansiout\"></div>"
      ]
     },
     "metadata": {
      "application/vnd.databricks.v1+output": {
       "addedWidgets": {},
       "arguments": {},
       "data": "<div class=\"ansiout\"></div>",
       "datasetInfos": [],
       "metadata": {},
       "removedWidgets": [],
       "type": "html"
      }
     },
     "output_type": "display_data"
    }
   ],
   "source": [
    "users_rows = [Row(*user) for user in users_list]"
   ]
  },
  {
   "cell_type": "code",
   "execution_count": 0,
   "metadata": {
    "application/vnd.databricks.v1+cell": {
     "cellMetadata": {
      "byteLimit": 2048000,
      "rowLimit": 10000
     },
     "inputWidgets": {},
     "nuid": "1529e47c-d6f2-409c-a7c8-b2af0a670427",
     "showTitle": false,
     "title": ""
    }
   },
   "outputs": [],
   "source": [
    "users_rows = [Row(*user) for user in users_list]"
   ]
  },
  {
   "cell_type": "code",
   "execution_count": 0,
   "metadata": {
    "application/vnd.databricks.v1+cell": {
     "cellMetadata": {
      "byteLimit": 2048000,
      "rowLimit": 10000
     },
     "inputWidgets": {},
     "nuid": "3a0fa0d0-21cb-486b-909e-cfcf15bff111",
     "showTitle": false,
     "title": ""
    }
   },
   "outputs": [
    {
     "output_type": "display_data",
     "data": {
      "text/plain": [
       "\u001B[0;31m---------------------------------------------------------------------------\u001B[0m\n",
       "\u001B[0;31mNameError\u001B[0m                                 Traceback (most recent call last)\n",
       "File \u001B[0;32m<command-2084258184750005>, line 1\u001B[0m\n",
       "\u001B[0;32m----> 1\u001B[0m \u001B[43musers_rows\u001B[49m\n",
       "\n",
       "\u001B[0;31mNameError\u001B[0m: name 'users_rows' is not defined"
      ]
     },
     "metadata": {
      "application/vnd.databricks.v1+output": {
       "arguments": {},
       "data": "\u001B[0;31m---------------------------------------------------------------------------\u001B[0m\n\u001B[0;31mNameError\u001B[0m                                 Traceback (most recent call last)\nFile \u001B[0;32m<command-2084258184750005>, line 1\u001B[0m\n\u001B[0;32m----> 1\u001B[0m \u001B[43musers_rows\u001B[49m\n\n\u001B[0;31mNameError\u001B[0m: name 'users_rows' is not defined",
       "errorSummary": "<span class='ansi-red-fg'>NameError</span>: name 'users_rows' is not defined",
       "errorTraceType": "ansi",
       "metadata": {},
       "type": "ipynbError"
      }
     },
     "output_type": "display_data"
    }
   ],
   "source": [
    "users_rows"
   ]
  },
  {
   "cell_type": "code",
   "execution_count": 0,
   "metadata": {
    "application/vnd.databricks.v1+cell": {
     "cellMetadata": {
      "byteLimit": 2048000,
      "rowLimit": 10000
     },
     "inputWidgets": {},
     "nuid": "7768dffd-59c8-4d08-aeda-41d50470805c",
     "showTitle": false,
     "title": ""
    }
   },
   "outputs": [
    {
     "output_type": "execute_result",
     "data": {
      "text/plain": [
       "DataFrame[user_id: int, user_first_name: string]"
      ]
     },
     "execution_count": 11,
     "metadata": {},
     "output_type": "execute_result"
    }
   ],
   "source": [
    "spark.createDataFrame(users_rows, 'user_id int, user_first_name string')"
   ]
  },
  {
   "cell_type": "code",
   "execution_count": 0,
   "metadata": {
    "application/vnd.databricks.v1+cell": {
     "cellMetadata": {},
     "inputWidgets": {},
     "nuid": "2f521437-de75-463a-a894-408ffedc308f",
     "showTitle": false,
     "title": ""
    }
   },
   "outputs": [
    {
     "output_type": "display_data",
     "data": {
      "text/html": [
       "<style scoped>\n",
       "  .ansiout {\n",
       "    display: block;\n",
       "    unicode-bidi: embed;\n",
       "    white-space: pre-wrap;\n",
       "    word-wrap: break-word;\n",
       "    word-break: break-all;\n",
       "    font-family: \"Menlo\", \"Monaco\", \"Consolas\", \"Ubuntu Mono\", \"Source Code Pro\", monospace;\n",
       "    font-size: 13px;\n",
       "    color: #555;\n",
       "    margin-left: 4px;\n",
       "    line-height: 19px;\n",
       "  }\n",
       "</style>\n",
       "<div class=\"ansiout\"></div>"
      ]
     },
     "metadata": {
      "application/vnd.databricks.v1+output": {
       "addedWidgets": {},
       "arguments": {},
       "data": "<div class=\"ansiout\"></div>",
       "datasetInfos": [],
       "metadata": {},
       "removedWidgets": [],
       "type": "html"
      }
     },
     "output_type": "display_data"
    }
   ],
   "source": [
    "def dummy(*args):\n",
    "    print(args)\n",
    "    print(len(args))"
   ]
  },
  {
   "cell_type": "code",
   "execution_count": 0,
   "metadata": {
    "application/vnd.databricks.v1+cell": {
     "cellMetadata": {},
     "inputWidgets": {},
     "nuid": "bb46e68d-5098-4440-911b-724f6e489125",
     "showTitle": false,
     "title": ""
    }
   },
   "outputs": [
    {
     "output_type": "display_data",
     "data": {
      "text/html": [
       "<style scoped>\n",
       "  .ansiout {\n",
       "    display: block;\n",
       "    unicode-bidi: embed;\n",
       "    white-space: pre-wrap;\n",
       "    word-wrap: break-word;\n",
       "    word-break: break-all;\n",
       "    font-family: \"Menlo\", \"Monaco\", \"Consolas\", \"Ubuntu Mono\", \"Source Code Pro\", monospace;\n",
       "    font-size: 13px;\n",
       "    color: #555;\n",
       "    margin-left: 4px;\n",
       "    line-height: 19px;\n",
       "  }\n",
       "</style>\n",
       "<div class=\"ansiout\">(1,)\n",
       "</div>"
      ]
     },
     "metadata": {
      "application/vnd.databricks.v1+output": {
       "addedWidgets": {},
       "arguments": {},
       "data": "<div class=\"ansiout\">(1,)\n</div>",
       "datasetInfos": [],
       "metadata": {},
       "removedWidgets": [],
       "type": "html"
      }
     },
     "output_type": "display_data"
    }
   ],
   "source": [
    "dummy(1)"
   ]
  },
  {
   "cell_type": "code",
   "execution_count": 0,
   "metadata": {
    "application/vnd.databricks.v1+cell": {
     "cellMetadata": {},
     "inputWidgets": {},
     "nuid": "fd02be7c-b176-42c9-9e10-9785f1fc41bf",
     "showTitle": false,
     "title": ""
    }
   },
   "outputs": [
    {
     "output_type": "display_data",
     "data": {
      "text/html": [
       "<style scoped>\n",
       "  .ansiout {\n",
       "    display: block;\n",
       "    unicode-bidi: embed;\n",
       "    white-space: pre-wrap;\n",
       "    word-wrap: break-word;\n",
       "    word-break: break-all;\n",
       "    font-family: \"Menlo\", \"Monaco\", \"Consolas\", \"Ubuntu Mono\", \"Source Code Pro\", monospace;\n",
       "    font-size: 13px;\n",
       "    color: #555;\n",
       "    margin-left: 4px;\n",
       "    line-height: 19px;\n",
       "  }\n",
       "</style>\n",
       "<div class=\"ansiout\">(1, &#39;Hello&#39;)\n",
       "</div>"
      ]
     },
     "metadata": {
      "application/vnd.databricks.v1+output": {
       "addedWidgets": {},
       "arguments": {},
       "data": "<div class=\"ansiout\">(1, &#39;Hello&#39;)\n</div>",
       "datasetInfos": [],
       "metadata": {},
       "removedWidgets": [],
       "type": "html"
      }
     },
     "output_type": "display_data"
    }
   ],
   "source": [
    "dummy(1, 'Hello')"
   ]
  },
  {
   "cell_type": "code",
   "execution_count": 0,
   "metadata": {
    "application/vnd.databricks.v1+cell": {
     "cellMetadata": {},
     "inputWidgets": {},
     "nuid": "107abd04-e70f-4894-abfb-eee1877c635a",
     "showTitle": false,
     "title": ""
    }
   },
   "outputs": [
    {
     "output_type": "display_data",
     "data": {
      "text/html": [
       "<style scoped>\n",
       "  .ansiout {\n",
       "    display: block;\n",
       "    unicode-bidi: embed;\n",
       "    white-space: pre-wrap;\n",
       "    word-wrap: break-word;\n",
       "    word-break: break-all;\n",
       "    font-family: \"Menlo\", \"Monaco\", \"Consolas\", \"Ubuntu Mono\", \"Source Code Pro\", monospace;\n",
       "    font-size: 13px;\n",
       "    color: #555;\n",
       "    margin-left: 4px;\n",
       "    line-height: 19px;\n",
       "  }\n",
       "</style>\n",
       "<div class=\"ansiout\"></div>"
      ]
     },
     "metadata": {
      "application/vnd.databricks.v1+output": {
       "addedWidgets": {},
       "arguments": {},
       "data": "<div class=\"ansiout\"></div>",
       "datasetInfos": [],
       "metadata": {},
       "removedWidgets": [],
       "type": "html"
      }
     },
     "output_type": "display_data"
    }
   ],
   "source": [
    "user_details = [1, 'Scott']"
   ]
  },
  {
   "cell_type": "code",
   "execution_count": 0,
   "metadata": {
    "application/vnd.databricks.v1+cell": {
     "cellMetadata": {},
     "inputWidgets": {},
     "nuid": "1965a7d2-7b64-472f-9655-fe8aa451e719",
     "showTitle": false,
     "title": ""
    }
   },
   "outputs": [
    {
     "output_type": "display_data",
     "data": {
      "text/html": [
       "<style scoped>\n",
       "  .ansiout {\n",
       "    display: block;\n",
       "    unicode-bidi: embed;\n",
       "    white-space: pre-wrap;\n",
       "    word-wrap: break-word;\n",
       "    word-break: break-all;\n",
       "    font-family: \"Menlo\", \"Monaco\", \"Consolas\", \"Ubuntu Mono\", \"Source Code Pro\", monospace;\n",
       "    font-size: 13px;\n",
       "    color: #555;\n",
       "    margin-left: 4px;\n",
       "    line-height: 19px;\n",
       "  }\n",
       "</style>\n",
       "<div class=\"ansiout\">([1, &#39;Scott&#39;],)\n",
       "1\n",
       "</div>"
      ]
     },
     "metadata": {
      "application/vnd.databricks.v1+output": {
       "addedWidgets": {},
       "arguments": {},
       "data": "<div class=\"ansiout\">([1, &#39;Scott&#39;],)\n1\n</div>",
       "datasetInfos": [],
       "metadata": {},
       "removedWidgets": [],
       "type": "html"
      }
     },
     "output_type": "display_data"
    }
   ],
   "source": [
    "dummy(user_details)"
   ]
  },
  {
   "cell_type": "code",
   "execution_count": 0,
   "metadata": {
    "application/vnd.databricks.v1+cell": {
     "cellMetadata": {},
     "inputWidgets": {},
     "nuid": "3bfdbab3-06b8-40b4-9ea3-525b8eb09e72",
     "showTitle": false,
     "title": ""
    }
   },
   "outputs": [
    {
     "output_type": "display_data",
     "data": {
      "text/html": [
       "<style scoped>\n",
       "  .ansiout {\n",
       "    display: block;\n",
       "    unicode-bidi: embed;\n",
       "    white-space: pre-wrap;\n",
       "    word-wrap: break-word;\n",
       "    word-break: break-all;\n",
       "    font-family: \"Menlo\", \"Monaco\", \"Consolas\", \"Ubuntu Mono\", \"Source Code Pro\", monospace;\n",
       "    font-size: 13px;\n",
       "    color: #555;\n",
       "    margin-left: 4px;\n",
       "    line-height: 19px;\n",
       "  }\n",
       "</style>\n",
       "<div class=\"ansiout\">(1, &#39;Scott&#39;)\n",
       "2\n",
       "</div>"
      ]
     },
     "metadata": {
      "application/vnd.databricks.v1+output": {
       "addedWidgets": {},
       "arguments": {},
       "data": "<div class=\"ansiout\">(1, &#39;Scott&#39;)\n2\n</div>",
       "datasetInfos": [],
       "metadata": {},
       "removedWidgets": [],
       "type": "html"
      }
     },
     "output_type": "display_data"
    }
   ],
   "source": [
    "dummy(*user_details)"
   ]
  },
  {
   "cell_type": "code",
   "execution_count": 0,
   "metadata": {
    "application/vnd.databricks.v1+cell": {
     "cellMetadata": {},
     "inputWidgets": {},
     "nuid": "b5317ecd-68c8-4f5d-93a1-ec7f7e4229c5",
     "showTitle": false,
     "title": ""
    }
   },
   "outputs": [
    {
     "output_type": "display_data",
     "data": {
      "text/html": [
       "<style scoped>\n",
       "  .ansiout {\n",
       "    display: block;\n",
       "    unicode-bidi: embed;\n",
       "    white-space: pre-wrap;\n",
       "    word-wrap: break-word;\n",
       "    word-break: break-all;\n",
       "    font-family: \"Menlo\", \"Monaco\", \"Consolas\", \"Ubuntu Mono\", \"Source Code Pro\", monospace;\n",
       "    font-size: 13px;\n",
       "    color: #555;\n",
       "    margin-left: 4px;\n",
       "    line-height: 19px;\n",
       "  }\n",
       "</style>"
      ]
     },
     "metadata": {
      "application/vnd.databricks.v1+output": {
       "arguments": {},
       "data": "",
       "errorSummary": "",
       "errorTraceType": null,
       "metadata": {},
       "type": "ipynbError"
      }
     },
     "output_type": "display_data"
    }
   ],
   "source": []
  }
 ],
 "metadata": {
  "application/vnd.databricks.v1+notebook": {
   "dashboards": [],
   "language": "python",
   "notebookMetadata": {
    "pythonIndentUnit": 4
   },
   "notebookName": "05 Convert List of Lists into Spark Dataframe using Row",
   "widgets": {}
  }
 },
 "nbformat": 4,
 "nbformat_minor": 0
}
