{
 "cells": [
  {
   "cell_type": "code",
   "execution_count": 0,
   "metadata": {
    "application/vnd.databricks.v1+cell": {
     "cellMetadata": {},
     "inputWidgets": {},
     "nuid": "210c1b43-0e84-4d43-afbe-6e597cd92a6c",
     "showTitle": false,
     "title": ""
    }
   },
   "outputs": [
    {
     "output_type": "display_data",
     "data": {
      "text/html": [
       "<style scoped>\n",
       "  .ansiout {\n",
       "    display: block;\n",
       "    unicode-bidi: embed;\n",
       "    white-space: pre-wrap;\n",
       "    word-wrap: break-word;\n",
       "    word-break: break-all;\n",
       "    font-family: \"Menlo\", \"Monaco\", \"Consolas\", \"Ubuntu Mono\", \"Source Code Pro\", monospace;\n",
       "    font-size: 13px;\n",
       "    color: #555;\n",
       "    margin-left: 4px;\n",
       "    line-height: 19px;\n",
       "  }\n",
       "</style>\n",
       "<div class=\"ansiout\"></div>"
      ]
     },
     "metadata": {
      "application/vnd.databricks.v1+output": {
       "addedWidgets": {},
       "arguments": {},
       "data": "<div class=\"ansiout\"></div>",
       "datasetInfos": [],
       "metadata": {},
       "removedWidgets": [],
       "type": "html"
      }
     },
     "output_type": "display_data"
    }
   ],
   "source": [
    "users_list = [(1, 'Scott'), (2, 'Donald'), (3, 'Mickey'), (4, 'Elvis')]\n",
    "df = spark.createDataFrame(users_list, 'user_id int, user_first_name string')"
   ]
  },
  {
   "cell_type": "code",
   "execution_count": 0,
   "metadata": {
    "application/vnd.databricks.v1+cell": {
     "cellMetadata": {
      "byteLimit": 2048000,
      "rowLimit": 10000
     },
     "inputWidgets": {},
     "nuid": "ba8d6e1e-ae7a-427a-955a-b7a59b9d04cd",
     "showTitle": false,
     "title": ""
    }
   },
   "outputs": [],
   "source": [
    "users_list = [(1, 'Scott'), (2, 'Donald'), (3, 'Mickey'), (4, 'Elvis')]\n",
    "df = spark.createDataFrame(users_list,'user_age int, user_first_name string')"
   ]
  },
  {
   "cell_type": "code",
   "execution_count": 0,
   "metadata": {
    "application/vnd.databricks.v1+cell": {
     "cellMetadata": {},
     "inputWidgets": {},
     "nuid": "c89ce2b1-6f8a-4b7b-ab0e-49f9968a9b05",
     "showTitle": false,
     "title": ""
    }
   },
   "outputs": [
    {
     "output_type": "display_data",
     "data": {
      "text/html": [
       "<style scoped>\n",
       "  .ansiout {\n",
       "    display: block;\n",
       "    unicode-bidi: embed;\n",
       "    white-space: pre-wrap;\n",
       "    word-wrap: break-word;\n",
       "    word-break: break-all;\n",
       "    font-family: \"Menlo\", \"Monaco\", \"Consolas\", \"Ubuntu Mono\", \"Source Code Pro\", monospace;\n",
       "    font-size: 13px;\n",
       "    color: #555;\n",
       "    margin-left: 4px;\n",
       "    line-height: 19px;\n",
       "  }\n",
       "</style>\n",
       "<div class=\"ansiout\">+-------+---------------+\n",
       "user_id|user_first_name|\n",
       "+-------+---------------+\n",
       "      1|          Scott|\n",
       "      2|         Donald|\n",
       "      3|         Mickey|\n",
       "      4|          Elvis|\n",
       "+-------+---------------+\n",
       "\n",
       "</div>"
      ]
     },
     "metadata": {
      "application/vnd.databricks.v1+output": {
       "addedWidgets": {},
       "arguments": {},
       "data": "<div class=\"ansiout\">+-------+---------------+\n|user_id|user_first_name|\n+-------+---------------+\n|      1|          Scott|\n|      2|         Donald|\n|      3|         Mickey|\n|      4|          Elvis|\n+-------+---------------+\n\n</div>",
       "datasetInfos": [],
       "metadata": {},
       "removedWidgets": [],
       "type": "html"
      }
     },
     "output_type": "display_data"
    }
   ],
   "source": [
    "df.show()"
   ]
  },
  {
   "cell_type": "code",
   "execution_count": 0,
   "metadata": {
    "application/vnd.databricks.v1+cell": {
     "cellMetadata": {
      "byteLimit": 2048000,
      "rowLimit": 10000
     },
     "inputWidgets": {},
     "nuid": "aa401fed-fb29-44b8-8c48-861f3161aad6",
     "showTitle": false,
     "title": ""
    }
   },
   "outputs": [
    {
     "output_type": "execute_result",
     "data": {
      "text/plain": [
       "[Row(user_age=1, user_first_name='Scott'),\n",
       " Row(user_age=2, user_first_name='Donald'),\n",
       " Row(user_age=3, user_first_name='Mickey'),\n",
       " Row(user_age=4, user_first_name='Elvis')]"
      ]
     },
     "execution_count": 4,
     "metadata": {},
     "output_type": "execute_result"
    }
   ],
   "source": [
    "df.collect()"
   ]
  },
  {
   "cell_type": "code",
   "execution_count": 0,
   "metadata": {
    "application/vnd.databricks.v1+cell": {
     "cellMetadata": {
      "byteLimit": 2048000,
      "rowLimit": 10000
     },
     "inputWidgets": {},
     "nuid": "e0f881bb-eaf7-4f41-8dd9-8b6bb62f5b42",
     "showTitle": false,
     "title": ""
    }
   },
   "outputs": [
    {
     "output_type": "execute_result",
     "data": {
      "text/plain": [
       "list"
      ]
     },
     "execution_count": 5,
     "metadata": {},
     "output_type": "execute_result"
    }
   ],
   "source": [
    "type(df.collect())"
   ]
  },
  {
   "cell_type": "code",
   "execution_count": 0,
   "metadata": {
    "application/vnd.databricks.v1+cell": {
     "cellMetadata": {},
     "inputWidgets": {},
     "nuid": "4c1dab1f-ddd7-40c3-af61-f96173d3d680",
     "showTitle": false,
     "title": ""
    }
   },
   "outputs": [
    {
     "output_type": "display_data",
     "data": {
      "text/html": [
       "<style scoped>\n",
       "  .ansiout {\n",
       "    display: block;\n",
       "    unicode-bidi: embed;\n",
       "    white-space: pre-wrap;\n",
       "    word-wrap: break-word;\n",
       "    word-break: break-all;\n",
       "    font-family: \"Menlo\", \"Monaco\", \"Consolas\", \"Ubuntu Mono\", \"Source Code Pro\", monospace;\n",
       "    font-size: 13px;\n",
       "    color: #555;\n",
       "    margin-left: 4px;\n",
       "    line-height: 19px;\n",
       "  }\n",
       "</style>\n",
       "<div class=\"ansiout\"></div>"
      ]
     },
     "metadata": {
      "application/vnd.databricks.v1+output": {
       "addedWidgets": {},
       "arguments": {},
       "data": "<div class=\"ansiout\"></div>",
       "datasetInfos": [],
       "metadata": {},
       "removedWidgets": [],
       "type": "html"
      }
     },
     "output_type": "display_data"
    }
   ],
   "source": [
    "from pyspark.sql import Row"
   ]
  },
  {
   "cell_type": "code",
   "execution_count": 0,
   "metadata": {
    "application/vnd.databricks.v1+cell": {
     "cellMetadata": {},
     "inputWidgets": {},
     "nuid": "b43f5263-4ba9-4ca8-a255-8c2490ea1f7a",
     "showTitle": false,
     "title": ""
    }
   },
   "outputs": [
    {
     "output_type": "display_data",
     "data": {
      "text/html": [
       "<style scoped>\n",
       "  .ansiout {\n",
       "    display: block;\n",
       "    unicode-bidi: embed;\n",
       "    white-space: pre-wrap;\n",
       "    word-wrap: break-word;\n",
       "    word-break: break-all;\n",
       "    font-family: \"Menlo\", \"Monaco\", \"Consolas\", \"Ubuntu Mono\", \"Source Code Pro\", monospace;\n",
       "    font-size: 13px;\n",
       "    color: #555;\n",
       "    margin-left: 4px;\n",
       "    line-height: 19px;\n",
       "  }\n",
       "</style>\n",
       "<div class=\"ansiout\">Help on class Row in module pyspark.sql.types:\n",
       "\n",
       "class Row(builtins.tuple)\n",
       "  Row(*args, **kwargs)\n",
       "  \n",
       "  A row in :class:`DataFrame`.\n",
       "  The fields in it can be accessed:\n",
       "  \n",
       "  * like attributes (``row.key``)\n",
       "  * like dictionary values (``row[key]``)\n",
       "  \n",
       "  ``key in row`` will search through row keys.\n",
       "  \n",
       "  Row can be used to create a row object by using named arguments.\n",
       "  It is not allowed to omit a named argument to represent that the value is\n",
       "  None or missing. This should be explicitly set to None in this case.\n",
       "  \n",
       "  .. versionchanged:: 3.0.0\n",
       "      Rows created from named arguments no longer have\n",
       "      field names sorted alphabetically and will be ordered in the position as\n",
       "      entered.\n",
       "  \n",
       "  Examples\n",
       "  --------\n",
       "  &gt;&gt;&gt; row = Row(name=&#34;Alice&#34;, age=11)\n",
       "  &gt;&gt;&gt; row\n",
       "  Row(name=&#39;Alice&#39;, age=11)\n",
       "  &gt;&gt;&gt; row[&#39;name&#39;], row[&#39;age&#39;]\n",
       "  (&#39;Alice&#39;, 11)\n",
       "  &gt;&gt;&gt; row.name, row.age\n",
       "  (&#39;Alice&#39;, 11)\n",
       "  &gt;&gt;&gt; &#39;name&#39; in row\n",
       "  True\n",
       "  &gt;&gt;&gt; &#39;wrong_key&#39; in row\n",
       "  False\n",
       "  \n",
       "  Row also can be used to create another Row like class, then it\n",
       "  could be used to create Row objects, such as\n",
       "  \n",
       "  &gt;&gt;&gt; Person = Row(&#34;name&#34;, &#34;age&#34;)\n",
       "  &gt;&gt;&gt; Person\n",
       "  &lt;Row(&#39;name&#39;, &#39;age&#39;)&gt;\n",
       "  &gt;&gt;&gt; &#39;name&#39; in Person\n",
       "  True\n",
       "  &gt;&gt;&gt; &#39;wrong_key&#39; in Person\n",
       "  False\n",
       "  &gt;&gt;&gt; Person(&#34;Alice&#34;, 11)\n",
       "  Row(name=&#39;Alice&#39;, age=11)\n",
       "  \n",
       "  This form can also be used to create rows as tuple values, i.e. with unnamed\n",
       "  fields.\n",
       "  \n",
       "  &gt;&gt;&gt; row1 = Row(&#34;Alice&#34;, 11)\n",
       "  &gt;&gt;&gt; row2 = Row(name=&#34;Alice&#34;, age=11)\n",
       "  &gt;&gt;&gt; row1 == row2\n",
       "  True\n",
       "  \n",
       "  Method resolution order:\n",
       "      Row\n",
       "      builtins.tuple\n",
       "      builtins.object\n",
       "  \n",
       "  Methods defined here:\n",
       "  \n",
       "  __call__(self, *args)\n",
       "      create new Row object\n",
       "  \n",
       "  __contains__(self, item)\n",
       "      Return key in self.\n",
       "  \n",
       "  __getattr__(self, item)\n",
       "  \n",
       "  __getitem__(self, item)\n",
       "      Return self[key].\n",
       "  \n",
       "  __reduce__(self)\n",
       "      Returns a tuple so Python knows how to pickle Row.\n",
       "  \n",
       "  __repr__(self)\n",
       "      Printable representation of Row used in Python REPL.\n",
       "  \n",
       "  __setattr__(self, key, value)\n",
       "      Implement setattr(self, name, value).\n",
       "  \n",
       "  asDict(self, recursive=False)\n",
       "      Return as a dict\n",
       "      \n",
       "      Parameters\n",
       "      ----------\n",
       "      recursive : bool, optional\n",
       "          turns the nested Rows to dict (default: False).\n",
       "      \n",
       "      Notes\n",
       "      -----\n",
       "      If a row contains duplicate field names, e.g., the rows of a join\n",
       "      between two :class:`DataFrame` that both have the fields of same names,\n",
       "      one of the duplicate fields will be selected by ``asDict``. ``__getitem__``\n",
       "      will also return one of the duplicate fields, however returned value might\n",
       "      be different to ``asDict``.\n",
       "      \n",
       "      Examples\n",
       "      --------\n",
       "      &gt;&gt;&gt; Row(name=&#34;Alice&#34;, age=11).asDict() == {&#39;name&#39;: &#39;Alice&#39;, &#39;age&#39;: 11}\n",
       "      True\n",
       "      &gt;&gt;&gt; row = Row(key=1, value=Row(name=&#39;a&#39;, age=2))\n",
       "      &gt;&gt;&gt; row.asDict() == {&#39;key&#39;: 1, &#39;value&#39;: Row(name=&#39;a&#39;, age=2)}\n",
       "      True\n",
       "      &gt;&gt;&gt; row.asDict(True) == {&#39;key&#39;: 1, &#39;value&#39;: {&#39;name&#39;: &#39;a&#39;, &#39;age&#39;: 2}}\n",
       "      True\n",
       "  \n",
       "  ----------------------------------------------------------------------\n",
       "  Static methods defined here:\n",
       "  \n",
       "  __new__(cls, *args, **kwargs)\n",
       "      Create and return a new object.  See help(type) for accurate signature.\n",
       "  \n",
       "  ----------------------------------------------------------------------\n",
       "  Data descriptors defined here:\n",
       "  \n",
       "  __dict__\n",
       "      dictionary for instance variables (if defined)\n",
       "  \n",
       "  ----------------------------------------------------------------------\n",
       "  Methods inherited from builtins.tuple:\n",
       "  \n",
       "  __add__(self, value, /)\n",
       "      Return self+value.\n",
       "  \n",
       "  __eq__(self, value, /)\n",
       "      Return self==value.\n",
       "  \n",
       "  __ge__(self, value, /)\n",
       "      Return self&gt;=value.\n",
       "  \n",
       "  __getattribute__(self, name, /)\n",
       "      Return getattr(self, name).\n",
       "  \n",
       "  __getnewargs__(self, /)\n",
       "  \n",
       "  __gt__(self, value, /)\n",
       "      Return self&gt;value.\n",
       "  \n",
       "  __hash__(self, /)\n",
       "      Return hash(self).\n",
       "  \n",
       "  __iter__(self, /)\n",
       "      Implement iter(self).\n",
       "  \n",
       "  __le__(self, value, /)\n",
       "      Return self&lt;=value.\n",
       "  \n",
       "  __len__(self, /)\n",
       "      Return len(self).\n",
       "  \n",
       "  __lt__(self, value, /)\n",
       "      Return self&lt;value.\n",
       "  \n",
       "  __mul__(self, value, /)\n",
       "      Return self*value.\n",
       "  \n",
       "  __ne__(self, value, /)\n",
       "      Return self!=value.\n",
       "  \n",
       "  __rmul__(self, value, /)\n",
       "      Return value*self.\n",
       "  \n",
       "  count(self, value, /)\n",
       "      Return number of occurrences of value.\n",
       "  \n",
       "  index(self, value, start=0, stop=9223372036854775807, /)\n",
       "      Return first index of value.\n",
       "      \n",
       "      Raises ValueError if the value is not present.\n",
       "\n",
       "</div>"
      ]
     },
     "metadata": {
      "application/vnd.databricks.v1+output": {
       "addedWidgets": {},
       "arguments": {},
       "data": "<div class=\"ansiout\">Help on class Row in module pyspark.sql.types:\n\nclass Row(builtins.tuple)\n |  Row(*args, **kwargs)\n |  \n |  A row in :class:`DataFrame`.\n |  The fields in it can be accessed:\n |  \n |  * like attributes (``row.key``)\n |  * like dictionary values (``row[key]``)\n |  \n |  ``key in row`` will search through row keys.\n |  \n |  Row can be used to create a row object by using named arguments.\n |  It is not allowed to omit a named argument to represent that the value is\n |  None or missing. This should be explicitly set to None in this case.\n |  \n |  .. versionchanged:: 3.0.0\n |      Rows created from named arguments no longer have\n |      field names sorted alphabetically and will be ordered in the position as\n |      entered.\n |  \n |  Examples\n |  --------\n |  &gt;&gt;&gt; row = Row(name=&#34;Alice&#34;, age=11)\n |  &gt;&gt;&gt; row\n |  Row(name=&#39;Alice&#39;, age=11)\n |  &gt;&gt;&gt; row[&#39;name&#39;], row[&#39;age&#39;]\n |  (&#39;Alice&#39;, 11)\n |  &gt;&gt;&gt; row.name, row.age\n |  (&#39;Alice&#39;, 11)\n |  &gt;&gt;&gt; &#39;name&#39; in row\n |  True\n |  &gt;&gt;&gt; &#39;wrong_key&#39; in row\n |  False\n |  \n |  Row also can be used to create another Row like class, then it\n |  could be used to create Row objects, such as\n |  \n |  &gt;&gt;&gt; Person = Row(&#34;name&#34;, &#34;age&#34;)\n |  &gt;&gt;&gt; Person\n |  &lt;Row(&#39;name&#39;, &#39;age&#39;)&gt;\n |  &gt;&gt;&gt; &#39;name&#39; in Person\n |  True\n |  &gt;&gt;&gt; &#39;wrong_key&#39; in Person\n |  False\n |  &gt;&gt;&gt; Person(&#34;Alice&#34;, 11)\n |  Row(name=&#39;Alice&#39;, age=11)\n |  \n |  This form can also be used to create rows as tuple values, i.e. with unnamed\n |  fields.\n |  \n |  &gt;&gt;&gt; row1 = Row(&#34;Alice&#34;, 11)\n |  &gt;&gt;&gt; row2 = Row(name=&#34;Alice&#34;, age=11)\n |  &gt;&gt;&gt; row1 == row2\n |  True\n |  \n |  Method resolution order:\n |      Row\n |      builtins.tuple\n |      builtins.object\n |  \n |  Methods defined here:\n |  \n |  __call__(self, *args)\n |      create new Row object\n |  \n |  __contains__(self, item)\n |      Return key in self.\n |  \n |  __getattr__(self, item)\n |  \n |  __getitem__(self, item)\n |      Return self[key].\n |  \n |  __reduce__(self)\n |      Returns a tuple so Python knows how to pickle Row.\n |  \n |  __repr__(self)\n |      Printable representation of Row used in Python REPL.\n |  \n |  __setattr__(self, key, value)\n |      Implement setattr(self, name, value).\n |  \n |  asDict(self, recursive=False)\n |      Return as a dict\n |      \n |      Parameters\n |      ----------\n |      recursive : bool, optional\n |          turns the nested Rows to dict (default: False).\n |      \n |      Notes\n |      -----\n |      If a row contains duplicate field names, e.g., the rows of a join\n |      between two :class:`DataFrame` that both have the fields of same names,\n |      one of the duplicate fields will be selected by ``asDict``. ``__getitem__``\n |      will also return one of the duplicate fields, however returned value might\n |      be different to ``asDict``.\n |      \n |      Examples\n |      --------\n |      &gt;&gt;&gt; Row(name=&#34;Alice&#34;, age=11).asDict() == {&#39;name&#39;: &#39;Alice&#39;, &#39;age&#39;: 11}\n |      True\n |      &gt;&gt;&gt; row = Row(key=1, value=Row(name=&#39;a&#39;, age=2))\n |      &gt;&gt;&gt; row.asDict() == {&#39;key&#39;: 1, &#39;value&#39;: Row(name=&#39;a&#39;, age=2)}\n |      True\n |      &gt;&gt;&gt; row.asDict(True) == {&#39;key&#39;: 1, &#39;value&#39;: {&#39;name&#39;: &#39;a&#39;, &#39;age&#39;: 2}}\n |      True\n |  \n |  ----------------------------------------------------------------------\n |  Static methods defined here:\n |  \n |  __new__(cls, *args, **kwargs)\n |      Create and return a new object.  See help(type) for accurate signature.\n |  \n |  ----------------------------------------------------------------------\n |  Data descriptors defined here:\n |  \n |  __dict__\n |      dictionary for instance variables (if defined)\n |  \n |  ----------------------------------------------------------------------\n |  Methods inherited from builtins.tuple:\n |  \n |  __add__(self, value, /)\n |      Return self+value.\n |  \n |  __eq__(self, value, /)\n |      Return self==value.\n |  \n |  __ge__(self, value, /)\n |      Return self&gt;=value.\n |  \n |  __getattribute__(self, name, /)\n |      Return getattr(self, name).\n |  \n |  __getnewargs__(self, /)\n |  \n |  __gt__(self, value, /)\n |      Return self&gt;value.\n |  \n |  __hash__(self, /)\n |      Return hash(self).\n |  \n |  __iter__(self, /)\n |      Implement iter(self).\n |  \n |  __le__(self, value, /)\n |      Return self&lt;=value.\n |  \n |  __len__(self, /)\n |      Return len(self).\n |  \n |  __lt__(self, value, /)\n |      Return self&lt;value.\n |  \n |  __mul__(self, value, /)\n |      Return self*value.\n |  \n |  __ne__(self, value, /)\n |      Return self!=value.\n |  \n |  __rmul__(self, value, /)\n |      Return value*self.\n |  \n |  count(self, value, /)\n |      Return number of occurrences of value.\n |  \n |  index(self, value, start=0, stop=9223372036854775807, /)\n |      Return first index of value.\n |      \n |      Raises ValueError if the value is not present.\n\n</div>",
       "datasetInfos": [],
       "metadata": {},
       "removedWidgets": [],
       "type": "html"
      }
     },
     "output_type": "display_data"
    }
   ],
   "source": [
    "help(Row)"
   ]
  },
  {
   "cell_type": "code",
   "execution_count": 0,
   "metadata": {
    "application/vnd.databricks.v1+cell": {
     "cellMetadata": {},
     "inputWidgets": {},
     "nuid": "8f9051af-1ba9-4ad5-8c04-bff29d90103d",
     "showTitle": false,
     "title": ""
    }
   },
   "outputs": [
    {
     "output_type": "display_data",
     "data": {
      "text/html": [
       "<style scoped>\n",
       "  .ansiout {\n",
       "    display: block;\n",
       "    unicode-bidi: embed;\n",
       "    white-space: pre-wrap;\n",
       "    word-wrap: break-word;\n",
       "    word-break: break-all;\n",
       "    font-family: \"Menlo\", \"Monaco\", \"Consolas\", \"Ubuntu Mono\", \"Source Code Pro\", monospace;\n",
       "    font-size: 13px;\n",
       "    color: #555;\n",
       "    margin-left: 4px;\n",
       "    line-height: 19px;\n",
       "  }\n",
       "</style>\n",
       "<div class=\"ansiout\"></div>"
      ]
     },
     "metadata": {
      "application/vnd.databricks.v1+output": {
       "addedWidgets": {},
       "arguments": {},
       "data": "<div class=\"ansiout\"></div>",
       "datasetInfos": [],
       "metadata": {},
       "removedWidgets": [],
       "type": "html"
      }
     },
     "output_type": "display_data"
    }
   ],
   "source": [
    "r = Row(\"Alice\", 11)"
   ]
  },
  {
   "cell_type": "code",
   "execution_count": 0,
   "metadata": {
    "application/vnd.databricks.v1+cell": {
     "cellMetadata": {},
     "inputWidgets": {},
     "nuid": "de775102-50a4-4bcb-a90a-5e96828de5ad",
     "showTitle": false,
     "title": ""
    }
   },
   "outputs": [
    {
     "output_type": "display_data",
     "data": {
      "text/html": [
       "<style scoped>\n",
       "  .ansiout {\n",
       "    display: block;\n",
       "    unicode-bidi: embed;\n",
       "    white-space: pre-wrap;\n",
       "    word-wrap: break-word;\n",
       "    word-break: break-all;\n",
       "    font-family: \"Menlo\", \"Monaco\", \"Consolas\", \"Ubuntu Mono\", \"Source Code Pro\", monospace;\n",
       "    font-size: 13px;\n",
       "    color: #555;\n",
       "    margin-left: 4px;\n",
       "    line-height: 19px;\n",
       "  }\n",
       "</style>\n",
       "<div class=\"ansiout\">Out[17]: &lt;Row(&#39;Alice&#39;, 11)&gt;</div>"
      ]
     },
     "metadata": {
      "application/vnd.databricks.v1+output": {
       "addedWidgets": {},
       "arguments": {},
       "data": "<div class=\"ansiout\">Out[17]: &lt;Row(&#39;Alice&#39;, 11)&gt;</div>",
       "datasetInfos": [],
       "metadata": {},
       "removedWidgets": [],
       "type": "html"
      }
     },
     "output_type": "display_data"
    }
   ],
   "source": [
    "r"
   ]
  },
  {
   "cell_type": "code",
   "execution_count": 0,
   "metadata": {
    "application/vnd.databricks.v1+cell": {
     "cellMetadata": {},
     "inputWidgets": {},
     "nuid": "229e3b54-aacd-4a76-ad41-e013f855ba13",
     "showTitle": false,
     "title": ""
    }
   },
   "outputs": [
    {
     "output_type": "display_data",
     "data": {
      "text/html": [
       "<style scoped>\n",
       "  .ansiout {\n",
       "    display: block;\n",
       "    unicode-bidi: embed;\n",
       "    white-space: pre-wrap;\n",
       "    word-wrap: break-word;\n",
       "    word-break: break-all;\n",
       "    font-family: \"Menlo\", \"Monaco\", \"Consolas\", \"Ubuntu Mono\", \"Source Code Pro\", monospace;\n",
       "    font-size: 13px;\n",
       "    color: #555;\n",
       "    margin-left: 4px;\n",
       "    line-height: 19px;\n",
       "  }\n",
       "</style>\n",
       "<div class=\"ansiout\"></div>"
      ]
     },
     "metadata": {
      "application/vnd.databricks.v1+output": {
       "addedWidgets": {},
       "arguments": {},
       "data": "<div class=\"ansiout\"></div>",
       "datasetInfos": [],
       "metadata": {},
       "removedWidgets": [],
       "type": "html"
      }
     },
     "output_type": "display_data"
    }
   ],
   "source": [
    "row2 = Row(name=\"Alice\", age=11)"
   ]
  },
  {
   "cell_type": "code",
   "execution_count": 0,
   "metadata": {
    "application/vnd.databricks.v1+cell": {
     "cellMetadata": {},
     "inputWidgets": {},
     "nuid": "5257ef3f-2db4-4c05-b8f3-c4e81aab2ad6",
     "showTitle": false,
     "title": ""
    }
   },
   "outputs": [
    {
     "output_type": "display_data",
     "data": {
      "text/html": [
       "<style scoped>\n",
       "  .ansiout {\n",
       "    display: block;\n",
       "    unicode-bidi: embed;\n",
       "    white-space: pre-wrap;\n",
       "    word-wrap: break-word;\n",
       "    word-break: break-all;\n",
       "    font-family: \"Menlo\", \"Monaco\", \"Consolas\", \"Ubuntu Mono\", \"Source Code Pro\", monospace;\n",
       "    font-size: 13px;\n",
       "    color: #555;\n",
       "    margin-left: 4px;\n",
       "    line-height: 19px;\n",
       "  }\n",
       "</style>\n",
       "<div class=\"ansiout\">Out[15]: Row(name=&#39;Alice&#39;, age=11)</div>"
      ]
     },
     "metadata": {
      "application/vnd.databricks.v1+output": {
       "addedWidgets": {},
       "arguments": {},
       "data": "<div class=\"ansiout\">Out[15]: Row(name=&#39;Alice&#39;, age=11)</div>",
       "datasetInfos": [],
       "metadata": {},
       "removedWidgets": [],
       "type": "html"
      }
     },
     "output_type": "display_data"
    }
   ],
   "source": [
    "row2"
   ]
  },
  {
   "cell_type": "code",
   "execution_count": 0,
   "metadata": {
    "application/vnd.databricks.v1+cell": {
     "cellMetadata": {},
     "inputWidgets": {},
     "nuid": "3d46c835-9dac-4a0b-aba1-b9afa896ff4e",
     "showTitle": false,
     "title": ""
    }
   },
   "outputs": [
    {
     "output_type": "display_data",
     "data": {
      "text/html": [
       "<style scoped>\n",
       "  .ansiout {\n",
       "    display: block;\n",
       "    unicode-bidi: embed;\n",
       "    white-space: pre-wrap;\n",
       "    word-wrap: break-word;\n",
       "    word-break: break-all;\n",
       "    font-family: \"Menlo\", \"Monaco\", \"Consolas\", \"Ubuntu Mono\", \"Source Code Pro\", monospace;\n",
       "    font-size: 13px;\n",
       "    color: #555;\n",
       "    margin-left: 4px;\n",
       "    line-height: 19px;\n",
       "  }\n",
       "</style>\n",
       "<div class=\"ansiout\">Out[18]: &#39;Alice&#39;</div>"
      ]
     },
     "metadata": {
      "application/vnd.databricks.v1+output": {
       "addedWidgets": {},
       "arguments": {},
       "data": "<div class=\"ansiout\">Out[18]: &#39;Alice&#39;</div>",
       "datasetInfos": [],
       "metadata": {},
       "removedWidgets": [],
       "type": "html"
      }
     },
     "output_type": "display_data"
    }
   ],
   "source": [
    "row2.name"
   ]
  },
  {
   "cell_type": "code",
   "execution_count": 0,
   "metadata": {
    "application/vnd.databricks.v1+cell": {
     "cellMetadata": {},
     "inputWidgets": {},
     "nuid": "afcc67f6-0681-40ab-a4c3-1990f075a962",
     "showTitle": false,
     "title": ""
    }
   },
   "outputs": [
    {
     "output_type": "display_data",
     "data": {
      "text/html": [
       "<style scoped>\n",
       "  .ansiout {\n",
       "    display: block;\n",
       "    unicode-bidi: embed;\n",
       "    white-space: pre-wrap;\n",
       "    word-wrap: break-word;\n",
       "    word-break: break-all;\n",
       "    font-family: \"Menlo\", \"Monaco\", \"Consolas\", \"Ubuntu Mono\", \"Source Code Pro\", monospace;\n",
       "    font-size: 13px;\n",
       "    color: #555;\n",
       "    margin-left: 4px;\n",
       "    line-height: 19px;\n",
       "  }\n",
       "</style>\n",
       "<div class=\"ansiout\">Out[19]: &#39;Alice&#39;</div>"
      ]
     },
     "metadata": {
      "application/vnd.databricks.v1+output": {
       "addedWidgets": {},
       "arguments": {},
       "data": "<div class=\"ansiout\">Out[19]: &#39;Alice&#39;</div>",
       "datasetInfos": [],
       "metadata": {},
       "removedWidgets": [],
       "type": "html"
      }
     },
     "output_type": "display_data"
    }
   ],
   "source": [
    "row2['name']"
   ]
  },
  {
   "cell_type": "code",
   "execution_count": 0,
   "metadata": {
    "application/vnd.databricks.v1+cell": {
     "cellMetadata": {},
     "inputWidgets": {},
     "nuid": "164ea806-448c-4048-aacc-3d14a813aa23",
     "showTitle": false,
     "title": ""
    }
   },
   "outputs": [
    {
     "output_type": "display_data",
     "data": {
      "text/html": [
       "<style scoped>\n",
       "  .ansiout {\n",
       "    display: block;\n",
       "    unicode-bidi: embed;\n",
       "    white-space: pre-wrap;\n",
       "    word-wrap: break-word;\n",
       "    word-break: break-all;\n",
       "    font-family: \"Menlo\", \"Monaco\", \"Consolas\", \"Ubuntu Mono\", \"Source Code Pro\", monospace;\n",
       "    font-size: 13px;\n",
       "    color: #555;\n",
       "    margin-left: 4px;\n",
       "    line-height: 19px;\n",
       "  }\n",
       "</style>"
      ]
     },
     "metadata": {
      "application/vnd.databricks.v1+output": {
       "arguments": {},
       "data": "",
       "errorSummary": "",
       "errorTraceType": null,
       "metadata": {},
       "type": "ipynbError"
      }
     },
     "output_type": "display_data"
    }
   ],
   "source": []
  }
 ],
 "metadata": {
  "application/vnd.databricks.v1+notebook": {
   "dashboards": [],
   "language": "python",
   "notebookMetadata": {
    "pythonIndentUnit": 4
   },
   "notebookName": "04 Overview of Spark Row",
   "widgets": {}
  }
 },
 "nbformat": 4,
 "nbformat_minor": 0
}
