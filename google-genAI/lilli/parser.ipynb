{
 "cells": [
  {
   "cell_type": "code",
   "execution_count": 1,
   "metadata": {
    "collapsed": true
   },
   "outputs": [
    {
     "ename": "ImportError",
     "evalue": "cannot import name 'PdfReader' from 'PyPDF2' (/Library/Frameworks/Python.framework/Versions/3.10/lib/python3.10/site-packages/PyPDF2/__init__.py)",
     "output_type": "error",
     "traceback": [
      "\u001B[0;31m---------------------------------------------------------------------------\u001B[0m",
      "\u001B[0;31mImportError\u001B[0m                               Traceback (most recent call last)",
      "Cell \u001B[0;32mIn[1], line 4\u001B[0m\n\u001B[1;32m      2\u001B[0m \u001B[38;5;28;01mimport\u001B[39;00m \u001B[38;5;21;01mfitz\u001B[39;00m  \u001B[38;5;66;03m# Assuming you are using PyMuPDF # Assuming you have PyPDF2 installed\u001B[39;00m\n\u001B[1;32m      3\u001B[0m \u001B[38;5;28;01mimport\u001B[39;00m \u001B[38;5;21;01mio\u001B[39;00m\n\u001B[0;32m----> 4\u001B[0m \u001B[38;5;28;01mfrom\u001B[39;00m \u001B[38;5;21;01mPyPDF2\u001B[39;00m \u001B[38;5;28;01mimport\u001B[39;00m PdfReader\n\u001B[1;32m      5\u001B[0m \u001B[38;5;66;03m# from slide_parser.parser.combined_parser import LilliParser\u001B[39;00m\n\u001B[1;32m      8\u001B[0m \u001B[38;5;28;01mdef\u001B[39;00m \u001B[38;5;21mparse_and_extract_text\u001B[39m(file_path):\n",
      "\u001B[0;31mImportError\u001B[0m: cannot import name 'PdfReader' from 'PyPDF2' (/Library/Frameworks/Python.framework/Versions/3.10/lib/python3.10/site-packages/PyPDF2/__init__.py)"
     ]
    }
   ],
   "source": [
    "import io\n",
    "import fitz  # Assuming you are using PyMuPDF # Assuming you have PyPDF2 installed\n",
    "import io\n",
    "from PyPDF2 import PdfReader\n",
    "# from slide_parser.parser.combined_parser import LilliParser\n",
    "\n",
    "\n",
    "def parse_and_extract_text(file_path):\n",
    "    with open(file_path, 'rb') as file:\n",
    "        pdf_reader = PdfReader(file)\n",
    "        text_content = \"\"\n",
    "        for page_number in range(len(pdf_reader.pages)):\n",
    "            text_content += pdf_reader.pages[page_number].extract_text()\n",
    "        return text_content"
   ]
  },
  {
   "cell_type": "code",
   "execution_count": null,
   "outputs": [],
   "source": [
    "pip install fitz"
   ],
   "metadata": {
    "collapsed": false
   }
  }
 ],
 "metadata": {
  "kernelspec": {
   "display_name": "Python 3",
   "language": "python",
   "name": "python3"
  },
  "language_info": {
   "codemirror_mode": {
    "name": "ipython",
    "version": 2
   },
   "file_extension": ".py",
   "mimetype": "text/x-python",
   "name": "python",
   "nbconvert_exporter": "python",
   "pygments_lexer": "ipython2",
   "version": "2.7.6"
  }
 },
 "nbformat": 4,
 "nbformat_minor": 0
}
