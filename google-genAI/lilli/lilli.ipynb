{
 "cells": [
  {
   "cell_type": "code",
   "execution_count": 1,
   "outputs": [
    {
     "ename": "TypeError",
     "evalue": "unsupported operand type(s) for -: 'list' and 'list'",
     "output_type": "error",
     "traceback": [
      "\u001B[0;31m---------------------------------------------------------------------------\u001B[0m",
      "\u001B[0;31mTypeError\u001B[0m                                 Traceback (most recent call last)",
      "Cell \u001B[0;32mIn[1], line 8\u001B[0m\n\u001B[1;32m      5\u001B[0m listfile1 \u001B[38;5;241m=\u001B[39m \u001B[38;5;28mlist\u001B[39m(\u001B[38;5;28mset\u001B[39m(list1\u001B[38;5;241m.\u001B[39msplit(\u001B[38;5;124m'\u001B[39m\u001B[38;5;124m,\u001B[39m\u001B[38;5;124m'\u001B[39m)))\n\u001B[1;32m      6\u001B[0m listfile2 \u001B[38;5;241m=\u001B[39m \u001B[38;5;28mlist\u001B[39m(\u001B[38;5;28mset\u001B[39m(list2\u001B[38;5;241m.\u001B[39msplit(\u001B[38;5;124m'\u001B[39m\u001B[38;5;124m,\u001B[39m\u001B[38;5;124m'\u001B[39m)))\n\u001B[0;32m----> 8\u001B[0m result \u001B[38;5;241m=\u001B[39m \u001B[43mlistfile1\u001B[49m\u001B[43m \u001B[49m\u001B[38;5;241;43m-\u001B[39;49m\u001B[43m \u001B[49m\u001B[43mlistfile2\u001B[49m\n\u001B[1;32m      9\u001B[0m result\n\u001B[1;32m     10\u001B[0m \u001B[38;5;66;03m# Convert the set back to a string\u001B[39;00m\n",
      "\u001B[0;31mTypeError\u001B[0m: unsupported operand type(s) for -: 'list' and 'list'"
     ]
    }
   ],
   "source": [
    "list1 = \"109409727810,179056116312,193980943906,186697788835,189437940953,193676393046,171090941622,181125854842,198162231365,22716800848,55286012521,129973227831,175087325871,166949853485,184905001099,179610105628,182416260036,166789602324,124806005824,47400691184,107607629634,211137444210,108249429544,199449549794,119062144070,118956199071,116782108996,214187857154,162206687863,141046531095,157000218922,160053383284,121289794546,155368200053,218689403038,185340708319,217674193437,157017036669,130970482000,143066743327,199750536312,133663956589,136828494195,137802612502,205392000226,185606549693,123182453831,158643320722,141357038683,131260469691\"\n",
    "list2 = \"46272897809,52111617968,164759169731,164899466414,66014578347,174548726543,192768236054,72112508409,186276283220,70417989426,206984581055,213006300614,213004159693,75828518974,80576164998,111269803230,111734807468,114741755367,115299018587,125040817507,125823114037,129547291289,113206234246,126560934500,132913395280,124605518820,133971416150,133220977163,130648491932,65141600748,185380639277,136520893671,136015979625,137613628785,137794390465,125637364422,142738189076,147815589053,151837168817,161216262306,162037501755,162424833210,163435654744\"\n",
    "\n",
    "# Combine the lists and convert them to sets to get unique numbers\n",
    "combined_list = list(set(list1.split(',')) | set(list2.split(',')))\n",
    "\n",
    "# Convert the set back to a string\n",
    "result = \",\".join(combined_list)\n",
    "\n",
    "print(result)\n"
   ],
   "metadata": {
    "collapsed": false,
    "ExecuteTime": {
     "start_time": "2023-11-13T11:57:41.937115Z",
     "end_time": "2023-11-13T11:57:41.944694Z"
    }
   }
  },
  {
   "cell_type": "code",
   "execution_count": 5,
   "outputs": [
    {
     "name": "stdout",
     "output_type": "stream",
     "text": [
      "['151837168817', '213004159693', '164899466414', '75828518974', '72112508409', '206984581055', '162424833210', '46272897809', '129547291289', '65141600748', '161216262306', '111734807468', '111269803230', '137613628785', '133220977163', '137794390465', '133971416150', '136520893671', '186276283220', '125637364422', '126560934500', '52111617968', '185380639277', '115299018587', '213006300614', '147815589053', '174548726543', '124605518820', '114741755367', '125823114037', '66014578347', '80576164998', '192768236054', '162037501755', '163435654744', '136015979625', '125040817507', '132913395280', '113206234246', '130648491932', '70417989426', '164759169731', '142738189076']\n"
     ]
    }
   ],
   "source": [
    "list1 = \"46272897809,55286012521,179056116312,22716800848,52111617968,164759169731,164899466414,184905001099,166789602324,166949853485,66014578347,171090941622,174548726543,175087325871,181125854842,182416260036,192768236054,72112508409,186276283220,189437940953,186697788835,193980943906,198162231365,70417989426,199449549794,199750536312,205392000226,206984581055,211137444210,213006300614,213004159693,75828518974,214187857154,217674193437,218689403038,80576164998,47400691184,109409727810,111269803230,111734807468,107607629634,114741755367,115299018587,116782108996,118956199071,121289794546,123182453831,119062144070,124806005824,125040817507,125823114037,129547291289,113206234246,126560934500,185606549693,130970482000,131260469691,132913395280,124605518820,133663956589,133971416150,133220977163,130648491932,65141600748,185380639277,136828494195,136520893671,136015979625,137613628785,137802612502,137794390465,141046531095,141357038683,125637364422,142738189076,143066743327,147815589053,151837168817,155368200053,157000218922,158643320722,160053383284,161216262306,162037501755,185340708319,162206687863,162424833210,157017036669,163435654744\"\n",
    "list2 = \"193980943906,186697788835,189437940953,193676393046,171090941622,181125854842,198162231365,22716800848,55286012521,129973227831,175087325871,166949853485,184905001099,179056116312,179610105628,182416260036,166789602324,124806005824,47400691184,107607629634,211137444210,108249429544,199449549794,119062144070,118956199071,116782108996,214187857154,109409727810,162206687863,141046531095,157000218922,160053383284,121289794546,155368200053,218689403038,185340708319,217674193437,157017036669,130970482000,143066743327,199750536312,133663956589,136828494195,137802612502,205392000226,185606549693,123182453831,158643320722,141357038683,131260469691,\"\n",
    "\n",
    "# Combine the lists and convert them to sets to get unique numbers\n",
    "listfile1 = list(set(list1.split(',')))\n",
    "listfile2 = list(set(list2.split(',')))\n",
    "\n",
    "result = [x for x in listfile1 if not x in listfile2]\n",
    "print(result)\n"
   ],
   "metadata": {
    "collapsed": false,
    "ExecuteTime": {
     "start_time": "2023-11-14T19:41:42.326039Z",
     "end_time": "2023-11-14T19:41:42.329774Z"
    }
   }
  },
  {
   "cell_type": "code",
   "execution_count": 1,
   "outputs": [],
   "source": [
    "sources_with_all_hit_count = {0: {'forbes.com': 420, 'investingnews.com': 18, 'inc.com': 0, 'latimes.com': 54, 'crainsnewyork.com': 11, 'washingtonpost.com': 351, 'wired.com': 19, 'miamiherald.com': 396, 'indiatimes.com': 1335, 'thetimes.co.uk': 257, 'theguardian.com': 294, 'euronews.com': 60, 'asiasentinel.com': 1, 'digitalnewsasia.com': 0, 'reuters.com': 538, 'nyc.com': 0, 'ccn.com': 0, 'techcrunch.com': 28, 'prnewswire.com': 861, 'businesswire.com': 449, 'einpresswire.com': 41}, 1: {'forbes.com': 395, 'investingnews.com': 16, 'inc.com': 3, 'latimes.com': 54, 'crainsnewyork.com': 10, 'washingtonpost.com': 317, 'wired.com': 29, 'miamiherald.com': 414, 'indiatimes.com': 1255, 'thetimes.co.uk': 142, 'theguardian.com': 309, 'euronews.com': 46, 'asiasentinel.com': 1, 'digitalnewsasia.com': 0, 'reuters.com': 479, 'nyc.com': 0, 'ccn.com': 1, 'techcrunch.com': 45, 'prnewswire.com': 983, 'businesswire.com': 20, 'einpresswire.com': 408}}\n",
    "\n",
    "\n"
   ],
   "metadata": {
    "collapsed": false,
    "ExecuteTime": {
     "start_time": "2023-12-01T16:51:51.197414Z",
     "end_time": "2023-12-01T16:51:51.201857Z"
    }
   }
  },
  {
   "cell_type": "code",
   "execution_count": 2,
   "outputs": [
    {
     "data": {
      "text/plain": "{0: {'forbes.com': 420,\n  'investingnews.com': 18,\n  'inc.com': 0,\n  'latimes.com': 54,\n  'crainsnewyork.com': 11,\n  'washingtonpost.com': 351,\n  'wired.com': 19,\n  'miamiherald.com': 396,\n  'indiatimes.com': 1335,\n  'thetimes.co.uk': 257,\n  'theguardian.com': 294,\n  'euronews.com': 60,\n  'asiasentinel.com': 1,\n  'digitalnewsasia.com': 0,\n  'reuters.com': 538,\n  'nyc.com': 0,\n  'ccn.com': 0,\n  'techcrunch.com': 28,\n  'prnewswire.com': 861,\n  'businesswire.com': 449,\n  'einpresswire.com': 41},\n 1: {'forbes.com': 395,\n  'investingnews.com': 16,\n  'inc.com': 3,\n  'latimes.com': 54,\n  'crainsnewyork.com': 10,\n  'washingtonpost.com': 317,\n  'wired.com': 29,\n  'miamiherald.com': 414,\n  'indiatimes.com': 1255,\n  'thetimes.co.uk': 142,\n  'theguardian.com': 309,\n  'euronews.com': 46,\n  'asiasentinel.com': 1,\n  'digitalnewsasia.com': 0,\n  'reuters.com': 479,\n  'nyc.com': 0,\n  'ccn.com': 1,\n  'techcrunch.com': 45,\n  'prnewswire.com': 983,\n  'businesswire.com': 20,\n  'einpresswire.com': 408}}"
     },
     "execution_count": 2,
     "metadata": {},
     "output_type": "execute_result"
    }
   ],
   "source": [
    "sources_with_all_hit_count"
   ],
   "metadata": {
    "collapsed": false,
    "ExecuteTime": {
     "start_time": "2023-12-01T16:51:51.203787Z",
     "end_time": "2023-12-01T16:51:51.210793Z"
    }
   }
  }
 ],
 "metadata": {
  "kernelspec": {
   "display_name": "Python 3",
   "language": "python",
   "name": "python3"
  },
  "language_info": {
   "codemirror_mode": {
    "name": "ipython",
    "version": 2
   },
   "file_extension": ".py",
   "mimetype": "text/x-python",
   "name": "python",
   "nbconvert_exporter": "python",
   "pygments_lexer": "ipython2",
   "version": "2.7.6"
  }
 },
 "nbformat": 4,
 "nbformat_minor": 0
}
