{
 "cells": [
  {
   "cell_type": "code",
   "execution_count": 1,
   "metadata": {
    "collapsed": true,
    "ExecuteTime": {
     "start_time": "2023-11-13T16:47:12.667916Z",
     "end_time": "2023-11-13T16:47:15.418699Z"
    }
   },
   "outputs": [],
   "source": [
    "import cohere\n",
    "co = cohere.Client(\"B4Y9fFbDFEyVyIuENyH0v4gDq6toQ9pALqW2g9ta\")"
   ]
  },
  {
   "cell_type": "code",
   "execution_count": 2,
   "outputs": [],
   "source": [
    "from cohere.responses.classify import Example\n",
    "\n",
    "examples = [Example(\"I'm so proud of you\", \"positive\"),\n",
    "            Example(\"What a great time to be alive\", \"positive\"),\n",
    "            Example(\"That's awesome work\", \"positive\"),\n",
    "            Example(\"The service was amazing\", \"positive\"),\n",
    "            Example(\"I love my family\", \"positive\"),\n",
    "            Example(\"They don't care about me\", \"negative\"),\n",
    "            Example(\"I hate this place\", \"negative\"),\n",
    "            Example(\"The most ridiculous thing I've ever heard\", \"negative\"),\n",
    "            Example(\"I am really frustrated\", \"negative\"),\n",
    "            Example(\"This is so unfair\", \"negative\"),\n",
    "            Example(\"This made me think\", \"neutral\"),\n",
    "            Example(\"The good old days\", \"neutral\"),\n",
    "            Example(\"What's the difference\", \"neutral\"),\n",
    "            Example(\"You can't ignore this\", \"neutral\"),\n",
    "            Example(\"That's how I see it\", \"neutral\")\n",
    "            ]"
   ],
   "metadata": {
    "collapsed": false,
    "ExecuteTime": {
     "start_time": "2023-11-13T16:48:23.681902Z",
     "end_time": "2023-11-13T16:48:23.685804Z"
    }
   }
  },
  {
   "cell_type": "code",
   "execution_count": 4,
   "outputs": [],
   "source": [
    "inputs=[\"Hello, world! What a beautiful day\",\n",
    "        \"It was a great time with great people\",\n",
    "        \"Great place to work\",\n",
    "        \"That was a wonderful evening\",\n",
    "        \"Maybe this is why\",\n",
    "        \"Let's start again\",\n",
    "        \"That's how I see it\",\n",
    "        \"These are all facts\",\n",
    "        \"This is the worst thing\",\n",
    "        \"I cannot stand this any longer\",\n",
    "        \"This is really annoying\",\n",
    "        \"I am just plain fed up\"\n",
    "        ]"
   ],
   "metadata": {
    "collapsed": false,
    "ExecuteTime": {
     "start_time": "2023-11-13T16:48:43.997352Z",
     "end_time": "2023-11-13T16:48:43.999064Z"
    }
   }
  },
  {
   "cell_type": "code",
   "execution_count": 8,
   "outputs": [
    {
     "ename": "CohereAPIError",
     "evalue": "invalid request: model 'embed-english-v3.0' is not supported by the classify API",
     "output_type": "error",
     "traceback": [
      "\u001B[0;31m---------------------------------------------------------------------------\u001B[0m",
      "\u001B[0;31mCohereAPIError\u001B[0m                            Traceback (most recent call last)",
      "Cell \u001B[0;32mIn[8], line 10\u001B[0m\n\u001B[1;32m      7\u001B[0m     classifications \u001B[38;5;241m=\u001B[39m response\u001B[38;5;241m.\u001B[39mclassifications\n\u001B[1;32m      8\u001B[0m     \u001B[38;5;28;01mreturn\u001B[39;00m classifications\n\u001B[0;32m---> 10\u001B[0m predictions \u001B[38;5;241m=\u001B[39m \u001B[43mclassify_text\u001B[49m\u001B[43m(\u001B[49m\u001B[43minputs\u001B[49m\u001B[43m,\u001B[49m\u001B[43mexamples\u001B[49m\u001B[43m)\u001B[49m\n\u001B[1;32m     11\u001B[0m predictions\n",
      "Cell \u001B[0;32mIn[8], line 2\u001B[0m, in \u001B[0;36mclassify_text\u001B[0;34m(inputs, examples)\u001B[0m\n\u001B[1;32m      1\u001B[0m \u001B[38;5;28;01mdef\u001B[39;00m \u001B[38;5;21mclassify_text\u001B[39m(inputs,examples):\n\u001B[0;32m----> 2\u001B[0m     response \u001B[38;5;241m=\u001B[39m \u001B[43mco\u001B[49m\u001B[38;5;241;43m.\u001B[39;49m\u001B[43mclassify\u001B[49m\u001B[43m(\u001B[49m\n\u001B[1;32m      3\u001B[0m \u001B[43m        \u001B[49m\u001B[43mmodel\u001B[49m\u001B[38;5;241;43m=\u001B[39;49m\u001B[38;5;124;43m'\u001B[39;49m\u001B[38;5;124;43membed-english-v3.0\u001B[39;49m\u001B[38;5;124;43m'\u001B[39;49m\u001B[43m,\u001B[49m\n\u001B[1;32m      4\u001B[0m \u001B[43m        \u001B[49m\u001B[43minputs\u001B[49m\u001B[38;5;241;43m=\u001B[39;49m\u001B[43minputs\u001B[49m\u001B[43m,\u001B[49m\n\u001B[1;32m      5\u001B[0m \u001B[43m        \u001B[49m\u001B[43mexamples\u001B[49m\u001B[38;5;241;43m=\u001B[39;49m\u001B[43mexamples\u001B[49m\n\u001B[1;32m      6\u001B[0m \u001B[43m    \u001B[49m\u001B[43m)\u001B[49m\n\u001B[1;32m      7\u001B[0m     classifications \u001B[38;5;241m=\u001B[39m response\u001B[38;5;241m.\u001B[39mclassifications\n\u001B[1;32m      8\u001B[0m     \u001B[38;5;28;01mreturn\u001B[39;00m classifications\n",
      "File \u001B[0;32m/Library/Frameworks/Python.framework/Versions/3.10/lib/python3.10/site-packages/cohere/client.py:481\u001B[0m, in \u001B[0;36mClient.classify\u001B[0;34m(self, inputs, model, preset, examples, truncate)\u001B[0m\n\u001B[1;32m    472\u001B[0m examples_dicts \u001B[38;5;241m=\u001B[39m [{\u001B[38;5;124m\"\u001B[39m\u001B[38;5;124mtext\u001B[39m\u001B[38;5;124m\"\u001B[39m: example\u001B[38;5;241m.\u001B[39mtext, \u001B[38;5;124m\"\u001B[39m\u001B[38;5;124mlabel\u001B[39m\u001B[38;5;124m\"\u001B[39m: example\u001B[38;5;241m.\u001B[39mlabel} \u001B[38;5;28;01mfor\u001B[39;00m example \u001B[38;5;129;01min\u001B[39;00m examples]\n\u001B[1;32m    474\u001B[0m json_body \u001B[38;5;241m=\u001B[39m {\n\u001B[1;32m    475\u001B[0m     \u001B[38;5;124m\"\u001B[39m\u001B[38;5;124mmodel\u001B[39m\u001B[38;5;124m\"\u001B[39m: model,\n\u001B[1;32m    476\u001B[0m     \u001B[38;5;124m\"\u001B[39m\u001B[38;5;124mpreset\u001B[39m\u001B[38;5;124m\"\u001B[39m: preset,\n\u001B[0;32m   (...)\u001B[0m\n\u001B[1;32m    479\u001B[0m     \u001B[38;5;124m\"\u001B[39m\u001B[38;5;124mtruncate\u001B[39m\u001B[38;5;124m\"\u001B[39m: truncate,\n\u001B[1;32m    480\u001B[0m }\n\u001B[0;32m--> 481\u001B[0m response \u001B[38;5;241m=\u001B[39m \u001B[38;5;28;43mself\u001B[39;49m\u001B[38;5;241;43m.\u001B[39;49m\u001B[43m_request\u001B[49m\u001B[43m(\u001B[49m\u001B[43mcohere\u001B[49m\u001B[38;5;241;43m.\u001B[39;49m\u001B[43mCLASSIFY_URL\u001B[49m\u001B[43m,\u001B[49m\u001B[43m \u001B[49m\u001B[43mjson\u001B[49m\u001B[38;5;241;43m=\u001B[39;49m\u001B[43mjson_body\u001B[49m\u001B[43m)\u001B[49m\n\u001B[1;32m    483\u001B[0m classifications \u001B[38;5;241m=\u001B[39m []\n\u001B[1;32m    484\u001B[0m \u001B[38;5;28;01mfor\u001B[39;00m res \u001B[38;5;129;01min\u001B[39;00m response[\u001B[38;5;124m\"\u001B[39m\u001B[38;5;124mclassifications\u001B[39m\u001B[38;5;124m\"\u001B[39m]:\n",
      "File \u001B[0;32m/Library/Frameworks/Python.framework/Versions/3.10/lib/python3.10/site-packages/cohere/client.py:945\u001B[0m, in \u001B[0;36mClient._request\u001B[0;34m(self, endpoint, json, files, method, stream, params)\u001B[0m\n\u001B[1;32m    942\u001B[0m     \u001B[38;5;28;01mexcept\u001B[39;00m jsonlib\u001B[38;5;241m.\u001B[39mdecoder\u001B[38;5;241m.\u001B[39mJSONDecodeError:  \u001B[38;5;66;03m# CohereAPIError will capture status\u001B[39;00m\n\u001B[1;32m    943\u001B[0m         \u001B[38;5;28;01mraise\u001B[39;00m CohereAPIError\u001B[38;5;241m.\u001B[39mfrom_response(response, message\u001B[38;5;241m=\u001B[39m\u001B[38;5;124mf\u001B[39m\u001B[38;5;124m\"\u001B[39m\u001B[38;5;124mFailed to decode json body: \u001B[39m\u001B[38;5;132;01m{\u001B[39;00mresponse\u001B[38;5;241m.\u001B[39mtext\u001B[38;5;132;01m}\u001B[39;00m\u001B[38;5;124m\"\u001B[39m)\n\u001B[0;32m--> 945\u001B[0m     \u001B[38;5;28;43mself\u001B[39;49m\u001B[38;5;241;43m.\u001B[39;49m\u001B[43m_check_response\u001B[49m\u001B[43m(\u001B[49m\u001B[43mjson_response\u001B[49m\u001B[43m,\u001B[49m\u001B[43m \u001B[49m\u001B[43mresponse\u001B[49m\u001B[38;5;241;43m.\u001B[39;49m\u001B[43mheaders\u001B[49m\u001B[43m,\u001B[49m\u001B[43m \u001B[49m\u001B[43mresponse\u001B[49m\u001B[38;5;241;43m.\u001B[39;49m\u001B[43mstatus_code\u001B[49m\u001B[43m)\u001B[49m\n\u001B[1;32m    946\u001B[0m \u001B[38;5;28;01mreturn\u001B[39;00m json_response\n",
      "File \u001B[0;32m/Library/Frameworks/Python.framework/Versions/3.10/lib/python3.10/site-packages/cohere/client.py:887\u001B[0m, in \u001B[0;36mClient._check_response\u001B[0;34m(self, json_response, headers, status_code)\u001B[0m\n\u001B[1;32m    885\u001B[0m     logger\u001B[38;5;241m.\u001B[39mwarning(headers[\u001B[38;5;124m\"\u001B[39m\u001B[38;5;124mX-API-Warning\u001B[39m\u001B[38;5;124m\"\u001B[39m])\n\u001B[1;32m    886\u001B[0m \u001B[38;5;28;01mif\u001B[39;00m \u001B[38;5;124m\"\u001B[39m\u001B[38;5;124mmessage\u001B[39m\u001B[38;5;124m\"\u001B[39m \u001B[38;5;129;01min\u001B[39;00m json_response:  \u001B[38;5;66;03m# has errors\u001B[39;00m\n\u001B[0;32m--> 887\u001B[0m     \u001B[38;5;28;01mraise\u001B[39;00m CohereAPIError(\n\u001B[1;32m    888\u001B[0m         message\u001B[38;5;241m=\u001B[39mjson_response[\u001B[38;5;124m\"\u001B[39m\u001B[38;5;124mmessage\u001B[39m\u001B[38;5;124m\"\u001B[39m],\n\u001B[1;32m    889\u001B[0m         http_status\u001B[38;5;241m=\u001B[39mstatus_code,\n\u001B[1;32m    890\u001B[0m         headers\u001B[38;5;241m=\u001B[39mheaders,\n\u001B[1;32m    891\u001B[0m     )\n\u001B[1;32m    892\u001B[0m \u001B[38;5;28;01mif\u001B[39;00m \u001B[38;5;241m400\u001B[39m \u001B[38;5;241m<\u001B[39m\u001B[38;5;241m=\u001B[39m status_code \u001B[38;5;241m<\u001B[39m \u001B[38;5;241m500\u001B[39m:\n\u001B[1;32m    893\u001B[0m     \u001B[38;5;28;01mraise\u001B[39;00m CohereAPIError(\n\u001B[1;32m    894\u001B[0m         message\u001B[38;5;241m=\u001B[39m\u001B[38;5;124mf\u001B[39m\u001B[38;5;124m\"\u001B[39m\u001B[38;5;124mUnexpected client error (status \u001B[39m\u001B[38;5;132;01m{\u001B[39;00mstatus_code\u001B[38;5;132;01m}\u001B[39;00m\u001B[38;5;124m): \u001B[39m\u001B[38;5;132;01m{\u001B[39;00mjson_response\u001B[38;5;132;01m}\u001B[39;00m\u001B[38;5;124m\"\u001B[39m,\n\u001B[1;32m    895\u001B[0m         http_status\u001B[38;5;241m=\u001B[39mstatus_code,\n\u001B[1;32m    896\u001B[0m         headers\u001B[38;5;241m=\u001B[39mheaders,\n\u001B[1;32m    897\u001B[0m     )\n",
      "\u001B[0;31mCohereAPIError\u001B[0m: invalid request: model 'embed-english-v3.0' is not supported by the classify API"
     ]
    }
   ],
   "source": [
    "def classify_text(inputs,examples):\n",
    "    response = co.classify(\n",
    "        model='embed-english-v3.0',\n",
    "        inputs=inputs,\n",
    "        examples=examples\n",
    "    )\n",
    "    classifications = response.classifications\n",
    "    return classifications\n",
    "\n",
    "predictions = classify_text(inputs,examples)\n",
    "predictions"
   ],
   "metadata": {
    "collapsed": false
   }
  },
  {
   "cell_type": "code",
   "execution_count": null,
   "outputs": [],
   "source": [
    "# Classify the inputs\n",
    "predictions = classify_text(inputs,examples)\n",
    "\n",
    "# Display the classification outcomes\n",
    "classes = [\"positive\",\"negative\",\"neutral\"]\n",
    "for inp,pred in zip(inputs,predictions):\n",
    "    class_pred = pred.prediction\n",
    "    class_idx = classes.index(class_pred)\n",
    "    class_conf = pred.confidence\n",
    "\n",
    "    print(f\"Input: {inp}\")\n",
    "    print(f\"Prediction: {class_pred}\")\n",
    "    print(f\"Confidence: {class_conf:.2f}\")\n",
    "    print(\"-\"*10)"
   ],
   "metadata": {
    "collapsed": false
   }
  }
 ],
 "metadata": {
  "kernelspec": {
   "display_name": "Python 3",
   "language": "python",
   "name": "python3"
  },
  "language_info": {
   "codemirror_mode": {
    "name": "ipython",
    "version": 2
   },
   "file_extension": ".py",
   "mimetype": "text/x-python",
   "name": "python",
   "nbconvert_exporter": "python",
   "pygments_lexer": "ipython2",
   "version": "2.7.6"
  }
 },
 "nbformat": 4,
 "nbformat_minor": 0
}
