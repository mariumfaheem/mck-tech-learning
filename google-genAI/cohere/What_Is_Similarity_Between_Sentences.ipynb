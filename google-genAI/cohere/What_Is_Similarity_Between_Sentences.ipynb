{
 "cells": [
  {
   "cell_type": "code",
   "execution_count": 4,
   "metadata": {
    "collapsed": true,
    "ExecuteTime": {
     "start_time": "2023-11-13T18:44:31.187154Z",
     "end_time": "2023-11-13T18:44:56.676589Z"
    }
   },
   "outputs": [
    {
     "name": "stdout",
     "output_type": "stream",
     "text": [
      "\r\n",
      "\u001B[1m[\u001B[0m\u001B[34;49mnotice\u001B[0m\u001B[1;39;49m]\u001B[0m\u001B[39;49m A new release of pip is available: \u001B[0m\u001B[31;49m23.2.1\u001B[0m\u001B[39;49m -> \u001B[0m\u001B[32;49m23.3.1\u001B[0m\r\n",
      "\u001B[1m[\u001B[0m\u001B[34;49mnotice\u001B[0m\u001B[1;39;49m]\u001B[0m\u001B[39;49m To update, run: \u001B[0m\u001B[32;49mpip install --upgrade pip\u001B[0m\r\n",
      "Collecting seaborn\r\n",
      "  Obtaining dependency information for seaborn from https://files.pythonhosted.org/packages/7b/e5/83fcd7e9db036c179e0352bfcd20f81d728197a16f883e7b90307a88e65e/seaborn-0.13.0-py3-none-any.whl.metadata\r\n",
      "  Downloading seaborn-0.13.0-py3-none-any.whl.metadata (5.3 kB)\r\n",
      "Requirement already satisfied: numpy!=1.24.0,>=1.20 in /Library/Frameworks/Python.framework/Versions/3.10/lib/python3.10/site-packages (from seaborn) (1.26.0)\r\n",
      "Requirement already satisfied: pandas>=1.2 in /Library/Frameworks/Python.framework/Versions/3.10/lib/python3.10/site-packages (from seaborn) (1.4.4)\r\n",
      "Collecting matplotlib!=3.6.1,>=3.3 (from seaborn)\r\n",
      "  Obtaining dependency information for matplotlib!=3.6.1,>=3.3 from https://files.pythonhosted.org/packages/bf/f9/b6cf14c7168965efe9e30d2a920d8e4c209a0fabae37583847cf227cc87c/matplotlib-3.8.1-cp310-cp310-macosx_11_0_arm64.whl.metadata\r\n",
      "  Downloading matplotlib-3.8.1-cp310-cp310-macosx_11_0_arm64.whl.metadata (5.8 kB)\r\n",
      "Collecting contourpy>=1.0.1 (from matplotlib!=3.6.1,>=3.3->seaborn)\r\n",
      "  Obtaining dependency information for contourpy>=1.0.1 from https://files.pythonhosted.org/packages/fe/26/43821d61b7ee62c1809ec852bc572aaf4c27f101ebcebbbcce29a5ee0445/contourpy-1.2.0-cp310-cp310-macosx_11_0_arm64.whl.metadata\r\n",
      "  Downloading contourpy-1.2.0-cp310-cp310-macosx_11_0_arm64.whl.metadata (5.8 kB)\r\n",
      "Collecting cycler>=0.10 (from matplotlib!=3.6.1,>=3.3->seaborn)\r\n",
      "  Obtaining dependency information for cycler>=0.10 from https://files.pythonhosted.org/packages/e7/05/c19819d5e3d95294a6f5947fb9b9629efb316b96de511b418c53d245aae6/cycler-0.12.1-py3-none-any.whl.metadata\r\n",
      "  Downloading cycler-0.12.1-py3-none-any.whl.metadata (3.8 kB)\r\n",
      "Collecting fonttools>=4.22.0 (from matplotlib!=3.6.1,>=3.3->seaborn)\r\n",
      "  Obtaining dependency information for fonttools>=4.22.0 from https://files.pythonhosted.org/packages/75/0d/7bb4b602a0d912e951aefab43948ce868f4233b2f2581f73bce29823190a/fonttools-4.44.0-cp310-cp310-macosx_10_9_universal2.whl.metadata\r\n",
      "  Downloading fonttools-4.44.0-cp310-cp310-macosx_10_9_universal2.whl.metadata (153 kB)\r\n",
      "\u001B[2K     \u001B[90m━━━━━━━━━━━━━━━━━━━━━━━━━━━━━━━━━━━━━\u001B[0m \u001B[32m153.6/153.6 kB\u001B[0m \u001B[31m398.9 kB/s\u001B[0m eta \u001B[36m0:00:00\u001B[0m00:01\u001B[0m00:01\u001B[0m\r\n",
      "\u001B[?25hCollecting kiwisolver>=1.3.1 (from matplotlib!=3.6.1,>=3.3->seaborn)\r\n",
      "  Obtaining dependency information for kiwisolver>=1.3.1 from https://files.pythonhosted.org/packages/23/11/6fb190bae4b279d712a834e7b1da89f6dcff6791132f7399aa28a57c3565/kiwisolver-1.4.5-cp310-cp310-macosx_11_0_arm64.whl.metadata\r\n",
      "  Downloading kiwisolver-1.4.5-cp310-cp310-macosx_11_0_arm64.whl.metadata (6.4 kB)\r\n",
      "Requirement already satisfied: packaging>=20.0 in /Library/Frameworks/Python.framework/Versions/3.10/lib/python3.10/site-packages (from matplotlib!=3.6.1,>=3.3->seaborn) (21.3)\r\n",
      "Requirement already satisfied: pillow>=8 in /Library/Frameworks/Python.framework/Versions/3.10/lib/python3.10/site-packages (from matplotlib!=3.6.1,>=3.3->seaborn) (9.5.0)\r\n",
      "Requirement already satisfied: pyparsing>=2.3.1 in /Library/Frameworks/Python.framework/Versions/3.10/lib/python3.10/site-packages (from matplotlib!=3.6.1,>=3.3->seaborn) (3.1.1)\r\n",
      "Requirement already satisfied: python-dateutil>=2.7 in /Library/Frameworks/Python.framework/Versions/3.10/lib/python3.10/site-packages (from matplotlib!=3.6.1,>=3.3->seaborn) (2.8.2)\r\n",
      "Requirement already satisfied: pytz>=2020.1 in /Library/Frameworks/Python.framework/Versions/3.10/lib/python3.10/site-packages (from pandas>=1.2->seaborn) (2022.7.1)\r\n",
      "Requirement already satisfied: six>=1.5 in /Library/Frameworks/Python.framework/Versions/3.10/lib/python3.10/site-packages (from python-dateutil>=2.7->matplotlib!=3.6.1,>=3.3->seaborn) (1.16.0)\r\n",
      "Downloading seaborn-0.13.0-py3-none-any.whl (294 kB)\r\n",
      "\u001B[2K   \u001B[90m━━━━━━━━━━━━━━━━━━━━━━━━━━━━━━━━━━━━━━━━\u001B[0m \u001B[32m294.6/294.6 kB\u001B[0m \u001B[31m1.4 MB/s\u001B[0m eta \u001B[36m0:00:00\u001B[0ma \u001B[36m0:00:01\u001B[0m\r\n",
      "\u001B[?25hDownloading matplotlib-3.8.1-cp310-cp310-macosx_11_0_arm64.whl (7.5 MB)\r\n",
      "\u001B[2K   \u001B[90m━━━━━━━━━━━━━━━━━━━━━━━━━━━━━━━━━━━━━━━━\u001B[0m \u001B[32m7.5/7.5 MB\u001B[0m \u001B[31m1.3 MB/s\u001B[0m eta \u001B[36m0:00:00\u001B[0m00:01\u001B[0m00:01\u001B[0m0m\r\n",
      "\u001B[?25hDownloading contourpy-1.2.0-cp310-cp310-macosx_11_0_arm64.whl (242 kB)\r\n",
      "\u001B[2K   \u001B[90m━━━━━━━━━━━━━━━━━━━━━━━━━━━━━━━━━━━━━━━━\u001B[0m \u001B[32m242.2/242.2 kB\u001B[0m \u001B[31m1.2 MB/s\u001B[0m eta \u001B[36m0:00:00\u001B[0ma \u001B[36m0:00:01\u001B[0m\r\n",
      "\u001B[?25hDownloading cycler-0.12.1-py3-none-any.whl (8.3 kB)\r\n",
      "Downloading fonttools-4.44.0-cp310-cp310-macosx_10_9_universal2.whl (2.7 MB)\r\n",
      "\u001B[2K   \u001B[90m━━━━━━━━━━━━━━━━━━━━━━━━━━━━━━━━━━━━━━━━\u001B[0m \u001B[32m2.7/2.7 MB\u001B[0m \u001B[31m1.4 MB/s\u001B[0m eta \u001B[36m0:00:00\u001B[0m00:01\u001B[0m00:01\u001B[0m\r\n",
      "\u001B[?25hDownloading kiwisolver-1.4.5-cp310-cp310-macosx_11_0_arm64.whl (66 kB)\r\n",
      "\u001B[2K   \u001B[90m━━━━━━━━━━━━━━━━━━━━━━━━━━━━━━━━━━━━━━━━\u001B[0m \u001B[32m66.2/66.2 kB\u001B[0m \u001B[31m2.0 MB/s\u001B[0m eta \u001B[36m0:00:00\u001B[0m\r\n",
      "\u001B[?25hInstalling collected packages: kiwisolver, fonttools, cycler, contourpy, matplotlib, seaborn\r\n",
      "Successfully installed contourpy-1.2.0 cycler-0.12.1 fonttools-4.44.0 kiwisolver-1.4.5 matplotlib-3.8.1 seaborn-0.13.0\r\n",
      "\r\n",
      "\u001B[1m[\u001B[0m\u001B[34;49mnotice\u001B[0m\u001B[1;39;49m]\u001B[0m\u001B[39;49m A new release of pip is available: \u001B[0m\u001B[31;49m23.2.1\u001B[0m\u001B[39;49m -> \u001B[0m\u001B[32;49m23.3.1\u001B[0m\r\n",
      "\u001B[1m[\u001B[0m\u001B[34;49mnotice\u001B[0m\u001B[1;39;49m]\u001B[0m\u001B[39;49m To update, run: \u001B[0m\u001B[32;49mpip install --upgrade pip\u001B[0m\r\n"
     ]
    }
   ],
   "source": [
    "! pip install cohere altair > /dev/null\n",
    "! pip install seaborn"
   ]
  },
  {
   "cell_type": "code",
   "execution_count": 20,
   "outputs": [],
   "source": [
    "import cohere\n",
    "import pandas as pd\n",
    "import numpy as np\n",
    "import seaborn as sns\n",
    "import altair as alt\n",
    "\n",
    "api_key = \"B4Y9fFbDFEyVyIuENyH0v4gDq6toQ9pALqW2g9ta\"\n",
    "co = cohere.Client(api_key)"
   ],
   "metadata": {
    "collapsed": false,
    "ExecuteTime": {
     "start_time": "2023-11-13T19:10:56.829404Z",
     "end_time": "2023-11-13T19:10:58.320979Z"
    }
   }
  },
  {
   "cell_type": "markdown",
   "source": [
    "# Turn text into embeddings"
   ],
   "metadata": {
    "collapsed": false
   }
  },
  {
   "cell_type": "code",
   "execution_count": 11,
   "outputs": [
    {
     "name": "stdout",
     "output_type": "stream",
     "text": [
      "Embedding for sentence 1 [[-1.3671875  -0.53808594  0.05929565 ...  0.6064453  -0.28979492\n",
      "   0.68408203]]\n",
      "Embedding for sentence 2 [[-0.38232422  2.3808594   2.5527344  ...  0.12548828 -0.91308594\n",
      "   0.6538086 ]]\n",
      "Embedding for sentence 3 [[-1.1621094  -1.9248047  -1.1660156  ... -2.9804688   1.5800781\n",
      "   0.14941406]]\n"
     ]
    }
   ],
   "source": [
    "sentence1 = np.array(co.embed([\"I like to be in my house\"]).embeddings)\n",
    "sentence2 = np.array(co.embed([\"I enjoy staying home\"]).embeddings)\n",
    "sentence3 = np.array(co.embed([\"the isotope 238u decays to 206pb\"]).embeddings)\n",
    "print(\"Embedding for sentence 1\", sentence1)\n",
    "print(\"Embedding for sentence 2\", sentence2)\n",
    "print(\"Embedding for sentence 3\", sentence3)"
   ],
   "metadata": {
    "collapsed": false,
    "ExecuteTime": {
     "start_time": "2023-11-13T18:51:25.847855Z",
     "end_time": "2023-11-13T18:51:28.323417Z"
    }
   }
  },
  {
   "cell_type": "markdown",
   "source": [
    "# Calculate dot products"
   ],
   "metadata": {
    "collapsed": false
   }
  },
  {
   "cell_type": "code",
   "execution_count": 15,
   "outputs": [
    {
     "name": "stdout",
     "output_type": "stream",
     "text": [
      "Similarity between sentences 1 and 2: 6736.825302722253\n",
      "Similarity between sentences 1 and 3: -122.45237673246993\n",
      "Similarity between sentences 2 and 3: -3.7202800890665344\n"
     ]
    }
   ],
   "source": [
    "from numpy import dot\n",
    "print(\"Similarity between sentences 1 and 2:\", dot(sentence1[0], sentence2[0]))\n",
    "print(\"Similarity between sentences 1 and 3:\", dot(sentence1[0], sentence3[0]))\n",
    "print(\"Similarity between sentences 2 and 3:\", dot(sentence2[0], sentence3[0]))"
   ],
   "metadata": {
    "collapsed": false,
    "ExecuteTime": {
     "start_time": "2023-11-13T18:54:21.129458Z",
     "end_time": "2023-11-13T18:54:21.134025Z"
    }
   }
  },
  {
   "cell_type": "markdown",
   "source": [
    "# Calculate cosine similarities"
   ],
   "metadata": {
    "collapsed": false
   }
  },
  {
   "cell_type": "code",
   "execution_count": 16,
   "outputs": [
    {
     "name": "stdout",
     "output_type": "stream",
     "text": [
      "Cosine similarity between sentences 1 and 2: 0.7738154325337813\n",
      "Cosine similarity between sentences 1 and 3: -0.014687618950875964\n",
      "Cosine similarity between sentences 2 and 3: -0.00044649711930149286\n"
     ]
    }
   ],
   "source": [
    "from sklearn.metrics.pairwise import cosine_similarity\n",
    "print(\"Cosine similarity between sentences 1 and 2:\", cosine_similarity(sentence1, sentence2)[0][0])\n",
    "print(\"Cosine similarity between sentences 1 and 3:\", cosine_similarity(sentence1, sentence3)[0][0])\n",
    "print(\"Cosine similarity between sentences 2 and 3:\", cosine_similarity(sentence2, sentence3)[0][0])\n",
    "\n"
   ],
   "metadata": {
    "collapsed": false,
    "ExecuteTime": {
     "start_time": "2023-11-13T18:56:37.682624Z",
     "end_time": "2023-11-13T18:56:40.587636Z"
    }
   }
  },
  {
   "cell_type": "code",
   "execution_count": 17,
   "outputs": [
    {
     "name": "stdout",
     "output_type": "stream",
     "text": [
      "Cosine similarity between sentences 1 and 1: 1.0000000000000013\n",
      "Cosine similarity between sentences 2 and 2: 0.9999999999999996\n",
      "Cosine similarity between sentences 3 and 3: 1.0000000000000022\n"
     ]
    }
   ],
   "source": [
    "from sklearn.metrics.pairwise import cosine_similarity\n",
    "print(\"Cosine similarity between sentences 1 and 1:\", cosine_similarity(sentence1, sentence1)[0][0])\n",
    "print(\"Cosine similarity between sentences 2 and 2:\", cosine_similarity(sentence2, sentence2)[0][0])\n",
    "print(\"Cosine similarity between sentences 3 and 3:\", cosine_similarity(sentence3, sentence3)[0][0])"
   ],
   "metadata": {
    "collapsed": false,
    "ExecuteTime": {
     "start_time": "2023-11-13T18:56:55.553834Z",
     "end_time": "2023-11-13T18:56:55.559434Z"
    }
   }
  },
  {
   "cell_type": "markdown",
   "source": [
    "so instead of doing one by one for each, we can write a logic and do it in loop"
   ],
   "metadata": {
    "collapsed": false
   }
  },
  {
   "cell_type": "code",
   "execution_count": 21,
   "outputs": [
    {
     "data": {
      "text/plain": "<Figure size 640x480 with 2 Axes>",
      "image/png": "[encoded data removed]"
     },
     "metadata": {},
     "output_type": "display_data"
    }
   ],
   "source": [
    "embeddings = [sentence1,sentence2,sentence3]\n",
    "\n",
    "dot_product_similarities = [[cosine_similarity(embeddings[i], embeddings[j])[0][0] for i in range(len(embeddings))] for j in range(len(embeddings))]\n",
    "dot_product_similarities\n",
    "\n",
    "ax = sns.heatmap(dot_product_similarities,\n",
    "                 vmin=0,\n",
    "                 vmax=1,\n",
    "                 xticklabels=[\"I like to be in my house\", \"I enjoy staying home\", \"the isotope 238u decays to 206pb\"],\n",
    "                 yticklabels=[\"I like to be in my house\", \"I enjoy staying home\", \"the isotope 238u decays to 206pb\"],)"
   ],
   "metadata": {
    "collapsed": false,
    "ExecuteTime": {
     "start_time": "2023-11-13T19:50:00.592995Z",
     "end_time": "2023-11-13T19:50:01.081325Z"
    }
   }
  },
  {
   "cell_type": "code",
   "execution_count": null,
   "outputs": [],
   "source": [],
   "metadata": {
    "collapsed": false
   }
  },
  {
   "cell_type": "code",
   "execution_count": null,
   "outputs": [],
   "source": [],
   "metadata": {
    "collapsed": false
   }
  }
 ],
 "metadata": {
  "kernelspec": {
   "display_name": "Python 3",
   "language": "python",
   "name": "python3"
  },
  "language_info": {
   "codemirror_mode": {
    "name": "ipython",
    "version": 2
   },
   "file_extension": ".py",
   "mimetype": "text/x-python",
   "name": "python",
   "nbconvert_exporter": "python",
   "pygments_lexer": "ipython2",
   "version": "2.7.6"
  }
 },
 "nbformat": 4,
 "nbformat_minor": 0
}
