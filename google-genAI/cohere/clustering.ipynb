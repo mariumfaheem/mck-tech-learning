{
 "cells": [
  {
   "cell_type": "code",
   "execution_count": 1,
   "metadata": {
    "collapsed": true,
    "ExecuteTime": {
     "start_time": "2023-11-15T21:48:37.836920Z",
     "end_time": "2023-11-15T21:48:41.759771Z"
    }
   },
   "outputs": [
    {
     "name": "stdout",
     "output_type": "stream",
     "text": [
      "\r\n",
      "\u001B[1m[\u001B[0m\u001B[34;49mnotice\u001B[0m\u001B[1;39;49m]\u001B[0m\u001B[39;49m A new release of pip is available: \u001B[0m\u001B[31;49m23.2.1\u001B[0m\u001B[39;49m -> \u001B[0m\u001B[32;49m23.3.1\u001B[0m\r\n",
      "\u001B[1m[\u001B[0m\u001B[34;49mnotice\u001B[0m\u001B[1;39;49m]\u001B[0m\u001B[39;49m To update, run: \u001B[0m\u001B[32;49mpip install --upgrade pip\u001B[0m\r\n"
     ]
    }
   ],
   "source": [
    "! pip install cohere altair -q"
   ]
  },
  {
   "cell_type": "code",
   "execution_count": 2,
   "outputs": [],
   "source": [
    "import cohere\n",
    "import pandas as pd\n",
    "import numpy as np\n",
    "import altair as alt\n",
    "\n",
    "api_key = \"22GKhTy4iMnY3iw1MNUjzqOBsFLQow31t6eNQi7s\"\n",
    "co = cohere.Client(api_key)"
   ],
   "metadata": {
    "collapsed": false,
    "ExecuteTime": {
     "start_time": "2023-11-15T21:49:14.190899Z",
     "end_time": "2023-11-15T21:49:15.400288Z"
    }
   }
  },
  {
   "cell_type": "code",
   "execution_count": 3,
   "outputs": [
    {
     "data": {
      "text/plain": "                intent                                              query\n0          atis_flight   i want to fly from boston at 838 am and arriv...\n1          atis_flight   what flights are available from pittsburgh to...\n2     atis_flight_time   what is the arrival time in san francisco for...\n3         atis_airfare            cheapest airfare from tacoma to orlando\n4         atis_airfare   round trip fares from pittsburgh to philadelp...\n...                ...                                                ...\n4829      atis_airfare   what is the airfare for flights from denver t...\n4830       atis_flight   do you have any flights from denver to baltim...\n4831      atis_airline          which airlines fly into and out of denver\n4832       atis_flight   does continental fly from boston to san franc...\n4833       atis_flight   is there a delta flight from denver to san fr...\n\n[4834 rows x 2 columns]",
      "text/html": "<div>\n<style scoped>\n    .dataframe tbody tr th:only-of-type {\n        vertical-align: middle;\n    }\n\n    .dataframe tbody tr th {\n        vertical-align: top;\n    }\n\n    .dataframe thead th {\n        text-align: right;\n    }\n</style>\n<table border=\"1\" class=\"dataframe\">\n  <thead>\n    <tr style=\"text-align: right;\">\n      <th></th>\n      <th>intent</th>\n      <th>query</th>\n    </tr>\n  </thead>\n  <tbody>\n    <tr>\n      <th>0</th>\n      <td>atis_flight</td>\n      <td>i want to fly from boston at 838 am and arriv...</td>\n    </tr>\n    <tr>\n      <th>1</th>\n      <td>atis_flight</td>\n      <td>what flights are available from pittsburgh to...</td>\n    </tr>\n    <tr>\n      <th>2</th>\n      <td>atis_flight_time</td>\n      <td>what is the arrival time in san francisco for...</td>\n    </tr>\n    <tr>\n      <th>3</th>\n      <td>atis_airfare</td>\n      <td>cheapest airfare from tacoma to orlando</td>\n    </tr>\n    <tr>\n      <th>4</th>\n      <td>atis_airfare</td>\n      <td>round trip fares from pittsburgh to philadelp...</td>\n    </tr>\n    <tr>\n      <th>...</th>\n      <td>...</td>\n      <td>...</td>\n    </tr>\n    <tr>\n      <th>4829</th>\n      <td>atis_airfare</td>\n      <td>what is the airfare for flights from denver t...</td>\n    </tr>\n    <tr>\n      <th>4830</th>\n      <td>atis_flight</td>\n      <td>do you have any flights from denver to baltim...</td>\n    </tr>\n    <tr>\n      <th>4831</th>\n      <td>atis_airline</td>\n      <td>which airlines fly into and out of denver</td>\n    </tr>\n    <tr>\n      <th>4832</th>\n      <td>atis_flight</td>\n      <td>does continental fly from boston to san franc...</td>\n    </tr>\n    <tr>\n      <th>4833</th>\n      <td>atis_flight</td>\n      <td>is there a delta flight from denver to san fr...</td>\n    </tr>\n  </tbody>\n</table>\n<p>4834 rows × 2 columns</p>\n</div>"
     },
     "execution_count": 3,
     "metadata": {},
     "output_type": "execute_result"
    }
   ],
   "source": [
    "df_orig = pd.read_csv('https://raw.githubusercontent.com/cohere-ai/notebooks/main/notebooks/data/atis_intents_train.csv',names = ['intent','query'])\n",
    "\n",
    "df_orig"
   ],
   "metadata": {
    "collapsed": false,
    "ExecuteTime": {
     "start_time": "2023-11-17T13:24:44.544451Z",
     "end_time": "2023-11-17T13:24:45.784948Z"
    }
   }
  },
  {
   "cell_type": "code",
   "execution_count": 4,
   "outputs": [
    {
     "data": {
      "text/plain": "array(['atis_flight', 'atis_flight_time', 'atis_airfare', 'atis_aircraft',\n       'atis_ground_service', 'atis_airline', 'atis_abbreviation',\n       'atis_quantity'], dtype=object)"
     },
     "execution_count": 4,
     "metadata": {},
     "output_type": "execute_result"
    }
   ],
   "source": [
    "df_orig[\"intent\"].unique()"
   ],
   "metadata": {
    "collapsed": false,
    "ExecuteTime": {
     "start_time": "2023-11-17T13:25:03.691380Z",
     "end_time": "2023-11-17T13:25:03.701862Z"
    }
   }
  },
  {
   "cell_type": "code",
   "execution_count": 7,
   "outputs": [],
   "source": [
    "sample_classes = [\"atis_airfare\",\"atis_airline\",\"atis_ground_service\"]\n",
    "\n",
    "df = df_orig.sample(frac=0.12,random_state = 30)\n",
    "df = df[df.intent.isin(sample_classes)]\n",
    "df_orig = df_orig.drop(df.index)\n",
    "df.reset_index(drop=True,inplace=True)\n",
    "intents = df[\"intent\"]\n",
    "df.drop(columns = [\"intent\"],inplace=True)\n",
    "df.head()"
   ],
   "metadata": {
    "collapsed": false,
    "ExecuteTime": {
     "start_time": "2023-11-17T13:27:21.443792Z",
     "end_time": "2023-11-17T13:27:21.447267Z"
    }
   }
  },
  {
   "cell_type": "markdown",
   "source": [
    "# 1. Intuition\n",
    "\n",
    "When you hear about large language models (LLM), probably the first thing that comes to mind is the text generation capability, such as writing an essay or creating a marketing copy.\n",
    "\n",
    "But another thing you can get is text representation: a set of numbers that represent what the text means, and somehow capture the semantics of the text. These numbers are called text embeddings.\n",
    "\n",
    "## 1.1 - Turn text into embeddings"
   ],
   "metadata": {
    "collapsed": false
   }
  },
  {
   "cell_type": "code",
   "execution_count": 11,
   "outputs": [],
   "source": [
    "def get_embeddings(text,model=\"embed-english-v3.0\",\n",
    "                   input_type=\"search_document\"):\n",
    "    output = co.embed(model=model,\n",
    "                      input_type=input_type,\n",
    "                      texts=text)\n",
    "    return output.embeddings"
   ],
   "metadata": {
    "collapsed": false,
    "ExecuteTime": {
     "start_time": "2023-11-17T13:37:52.411281Z",
     "end_time": "2023-11-17T13:37:52.412825Z"
    }
   }
  },
  {
   "cell_type": "code",
   "execution_count": 12,
   "outputs": [
    {
     "data": {
      "text/plain": "                                               query  \\\n0   please give me round trip fares from baltimor...   \n1   is there ground transportation from atlanta a...   \n2   what are the most expensive first class ticke...   \n3        is there limo service at pittsburgh airport   \n4   what is the schedule of ground transportation...   \n\n                                        query_embeds  \n0  [0.029403687, -0.0026416779, -0.008682251, 0.0...  \n1  [0.018722534, 0.016937256, -0.044189453, -0.02...  \n2  [-0.0016584396, -0.02659607, 0.018829346, 0.04...  \n3  [0.031158447, 0.0058021545, -0.021347046, -0.0...  \n4  [0.0030918121, 0.010940552, -0.064941406, -0.0...  ",
      "text/html": "<div>\n<style scoped>\n    .dataframe tbody tr th:only-of-type {\n        vertical-align: middle;\n    }\n\n    .dataframe tbody tr th {\n        vertical-align: top;\n    }\n\n    .dataframe thead th {\n        text-align: right;\n    }\n</style>\n<table border=\"1\" class=\"dataframe\">\n  <thead>\n    <tr style=\"text-align: right;\">\n      <th></th>\n      <th>query</th>\n      <th>query_embeds</th>\n    </tr>\n  </thead>\n  <tbody>\n    <tr>\n      <th>0</th>\n      <td>please give me round trip fares from baltimor...</td>\n      <td>[0.029403687, -0.0026416779, -0.008682251, 0.0...</td>\n    </tr>\n    <tr>\n      <th>1</th>\n      <td>is there ground transportation from atlanta a...</td>\n      <td>[0.018722534, 0.016937256, -0.044189453, -0.02...</td>\n    </tr>\n    <tr>\n      <th>2</th>\n      <td>what are the most expensive first class ticke...</td>\n      <td>[-0.0016584396, -0.02659607, 0.018829346, 0.04...</td>\n    </tr>\n    <tr>\n      <th>3</th>\n      <td>is there limo service at pittsburgh airport</td>\n      <td>[0.031158447, 0.0058021545, -0.021347046, -0.0...</td>\n    </tr>\n    <tr>\n      <th>4</th>\n      <td>what is the schedule of ground transportation...</td>\n      <td>[0.0030918121, 0.010940552, -0.064941406, -0.0...</td>\n    </tr>\n  </tbody>\n</table>\n</div>"
     },
     "execution_count": 12,
     "metadata": {},
     "output_type": "execute_result"
    }
   ],
   "source": [
    "df[\"query_embeds\"] = get_embeddings(df[\"query\"].tolist())\n",
    "df.head()"
   ],
   "metadata": {
    "collapsed": false,
    "ExecuteTime": {
     "start_time": "2023-11-17T13:37:53.302841Z",
     "end_time": "2023-11-17T13:37:55.271887Z"
    }
   }
  },
  {
   "cell_type": "markdown",
   "source": [
    "## 1.2 - Visualize embeddings on a heatmap"
   ],
   "metadata": {
    "collapsed": false
   }
  },
  {
   "cell_type": "code",
   "execution_count": 13,
   "outputs": [],
   "source": [
    "from sklearn.decomposition import PCA\n",
    "\n",
    "def get_pc(arr,n):\n",
    "    pca = PCA(n_components=n)\n",
    "    embeds_transform = pca.fit_transform(arr)\n",
    "    return embeds_transform"
   ],
   "metadata": {
    "collapsed": false,
    "ExecuteTime": {
     "start_time": "2023-11-17T13:42:53.496049Z",
     "end_time": "2023-11-17T13:42:54.354687Z"
    }
   }
  },
  {
   "cell_type": "code",
   "execution_count": null,
   "outputs": [],
   "source": [],
   "metadata": {
    "collapsed": false
   }
  }
 ],
 "metadata": {
  "kernelspec": {
   "display_name": "Python 3",
   "language": "python",
   "name": "python3"
  },
  "language_info": {
   "codemirror_mode": {
    "name": "ipython",
    "version": 2
   },
   "file_extension": ".py",
   "mimetype": "text/x-python",
   "name": "python",
   "nbconvert_exporter": "python",
   "pygments_lexer": "ipython2",
   "version": "2.7.6"
  }
 },
 "nbformat": 4,
 "nbformat_minor": 0
}
